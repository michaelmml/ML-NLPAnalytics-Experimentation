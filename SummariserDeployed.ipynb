{
  "nbformat": 4,
  "nbformat_minor": 0,
  "metadata": {
    "colab": {
      "name": "SummariserDeployed.ipynb",
      "provenance": [],
      "authorship_tag": "ABX9TyMkTxLGFHJDUbm9tW1WZAXC"
    },
    "kernelspec": {
      "name": "python3",
      "display_name": "Python 3"
    },
    "language_info": {
      "name": "python"
    }
  },
  "cells": [
    {
      "cell_type": "code",
      "execution_count": 70,
      "metadata": {
        "colab": {
          "base_uri": "https://localhost:8080/"
        },
        "id": "1w7WzC43aizC",
        "outputId": "b8354b76-326a-4d78-fc29-b35083b5b335"
      },
      "outputs": [
        {
          "output_type": "stream",
          "name": "stdout",
          "text": [
            "Drive already mounted at /content/drive; to attempt to forcibly remount, call drive.mount(\"/content/drive\", force_remount=True).\n"
          ]
        }
      ],
      "source": [
        "import math\n",
        "import os\n",
        "import gc\n",
        "import time\n",
        "import re\n",
        "import pandas as pd\n",
        "import numpy as np\n",
        "import matplotlib.pyplot as plt\n",
        "%matplotlib inline \n",
        "\n",
        "from google.colab import drive\n",
        "drive.mount(\"/content/drive\")\n",
        "\n",
        "import tensorflow as tf\n",
        "import tensorflow_datasets as tfds\n",
        "import tensorflow as tf\n",
        "from tensorflow.keras import layers\n",
        "from tensorflow.keras import backend as K\n",
        "import tensorflow_datasets as tfds\n",
        "\n",
        "from keras.preprocessing.text import Tokenizer\n",
        "from keras.preprocessing.sequence import pad_sequences\n",
        "\n",
        "root_folder='/content/drive/My Drive/Summarisationv2'\n",
        "DATA_PATH = os.path.abspath(os.path.join(root_folder))"
      ]
    },
    {
      "cell_type": "code",
      "source": [
        "import pickle\n",
        "\n",
        "with open(DATA_PATH+\"/in_tokenizer.pickle\", 'rb') as handle:\n",
        "    tokenizer_inputs = pickle.load(handle)\n",
        "\n",
        "with open(DATA_PATH+\"/out_tokenizer.pickle\", 'rb') as handle:\n",
        "    tokenizer_outputs = pickle.load(handle)"
      ],
      "metadata": {
        "id": "dTKodyv8a60U"
      },
      "execution_count": 2,
      "outputs": []
    },
    {
      "cell_type": "code",
      "source": [
        "num_words_inputs = 16910\n",
        "sos_token_input = [16908]\n",
        "eos_token_input = [16909]\n",
        "num_words_output = 17175\n",
        "sos_token_output = [17173]\n",
        "eos_token_output = [17174]"
      ],
      "metadata": {
        "id": "qi8R130la7Iy"
      },
      "execution_count": 3,
      "outputs": []
    },
    {
      "cell_type": "code",
      "source": [
        "import sys\n",
        "sys.path.append(root_folder)"
      ],
      "metadata": {
        "id": "AWuzPzrbq8PW"
      },
      "execution_count": 72,
      "outputs": []
    },
    {
      "cell_type": "code",
      "source": [
        "import TransformerArchitecture\n",
        "from TransformerArchitecture import *"
      ],
      "metadata": {
        "id": "E5-91Wq4qQrA"
      },
      "execution_count": 74,
      "outputs": []
    },
    {
      "cell_type": "code",
      "source": [
        "def reloadmodel():\n",
        "    # Clean the session\n",
        "    tf.keras.backend.clear_session()\n",
        "    # Create the Transformer model\n",
        "    transformer = Transformer(vocab_size_enc=num_words_inputs,\n",
        "                              vocab_size_dec=num_words_output,\n",
        "                              d_model=512,\n",
        "                              n_layers=4,\n",
        "                              FFN_units=512,\n",
        "                              n_heads=8,\n",
        "                              dropout_rate=0.1)\n",
        "\n",
        "    ckpt = tf.train.Checkpoint(transformer=transformer)\n",
        "\n",
        "    ckpt_manager = tf.train.CheckpointManager(ckpt, DATA_PATH, max_to_keep=2)\n",
        "\n",
        "    if ckpt_manager.latest_checkpoint:\n",
        "        ckpt.restore(ckpt_manager.latest_checkpoint).expect_partial()\n",
        "        print(\"Last checkpoint restored.\")\n",
        "        \n",
        "    return transformer"
      ],
      "metadata": {
        "id": "E5TJHdSwh8mr"
      },
      "execution_count": 75,
      "outputs": []
    },
    {
      "cell_type": "code",
      "source": [
        "transformer = reloadmodel()"
      ],
      "metadata": {
        "colab": {
          "base_uri": "https://localhost:8080/"
        },
        "id": "lxfO4-iPk4Xe",
        "outputId": "b4b479b4-7a9d-49cb-c513-586f8d660ea1"
      },
      "execution_count": 76,
      "outputs": [
        {
          "output_type": "stream",
          "name": "stdout",
          "text": [
            "Last checkpoint restored.\n"
          ]
        }
      ]
    },
    {
      "cell_type": "code",
      "source": [
        "class Summarising(tf.Module):\n",
        "  def __init__(self, tokenizer_in, tokenizer_out, transformer):\n",
        "    self.tokenizer_in = tokenizer_in\n",
        "    self.tokenizer_out = tokenizer_out\n",
        "    self.transformer = transformer\n",
        "\n",
        "  def __call__(self, sentence, target_max_len=15):\n",
        "    # Tokenize the input sequence using the tokenizer_in\n",
        "    sentence = sos_token_input + self.tokenizer_in.encode(sentence) + eos_token_input\n",
        "    enc_input = tf.expand_dims(sentence, axis=0)\n",
        "\n",
        "    # Set the initial output sentence to sos\n",
        "    out_sentence = sos_token_output\n",
        "    output = tf.expand_dims(out_sentence, axis=0)\n",
        "\n",
        "    # For max target len tokens\n",
        "    for _ in range(target_max_len):\n",
        "        predictions, _ = self.transformer(enc_input, output, False)\n",
        "        prediction = predictions[:, -1:, :]\n",
        "        predicted_id = tf.cast(tf.argmax(prediction, axis=-1), tf.int32)\n",
        "        if predicted_id == eos_token_output:\n",
        "            return tf.squeeze(output, axis=0)\n",
        "        output = tf.concat([output, predicted_id], axis=-1)\n",
        "\n",
        "    output = tf.squeeze(output, axis=0)\n",
        "    return output"
      ],
      "metadata": {
        "id": "hHP3R_pd9dDV"
      },
      "execution_count": 77,
      "outputs": []
    },
    {
      "cell_type": "code",
      "source": [
        "summarising = Summarising(tokenizer_inputs, tokenizer_outputs, transformer)"
      ],
      "metadata": {
        "id": "YLvG-emxBAVH"
      },
      "execution_count": 78,
      "outputs": []
    },
    {
      "cell_type": "code",
      "source": [
        "sentence = \"conservative firebrand tomi lahren filed lawsuit against glenn beck and theblaze friday alleging she was wrongfully terminated for recently expressing opinion the news she was fired which theblaze disputed\"\n",
        "summary_tok = summarising(sentence)"
      ],
      "metadata": {
        "id": "Yd3ql28cBzm7"
      },
      "execution_count": 79,
      "outputs": []
    },
    {
      "cell_type": "code",
      "source": [
        "def extract(output):\n",
        "    tokens = output.numpy()\n",
        "    sentence = tokenizer_outputs.decode(\n",
        "        [i for i in tokens if i < sos_token_output])    \n",
        "    return sentence"
      ],
      "metadata": {
        "id": "lWvtXtPhbF-p"
      },
      "execution_count": 80,
      "outputs": []
    },
    {
      "cell_type": "code",
      "source": [
        "extract(summary_tok)"
      ],
      "metadata": {
        "id": "-nwQVX2TbMmt",
        "colab": {
          "base_uri": "https://localhost:8080/",
          "height": 36
        },
        "outputId": "4ab289bb-4a45-4eee-bd94-af473a544436"
      },
      "execution_count": 81,
      "outputs": [
        {
          "output_type": "execute_result",
          "data": {
            "application/vnd.google.colaboratory.intrinsic+json": {
              "type": "string"
            },
            "text/plain": [
              "'tomi lahren files lawsuit against glenn beck and theblaze alleging wrongful termination for expressing pro'"
            ]
          },
          "metadata": {},
          "execution_count": 81
        }
      ]
    },
    {
      "cell_type": "code",
      "source": [
        "def plot_attention_head(in_tokens, translated_tokens, attention):\n",
        "  # The plot is of the attention when a token was generated.\n",
        "  # The model didn't generate `<START>` in the output. Skip it.\n",
        "  translated_tokens = translated_tokens[1:]\n",
        "\n",
        "  ax = plt.gca()\n",
        "  ax.matshow(attention)"
      ],
      "metadata": {
        "id": "osr8IKvJ_YN9"
      },
      "execution_count": 82,
      "outputs": []
    },
    {
      "cell_type": "code",
      "source": [
        "def plot_attention_weights(sentence, summary_tok):\n",
        "  input_sent = sos_token_input + tokenizer_inputs.encode(sentence) + eos_token_input\n",
        "  enc_input = tf.expand_dims(input_sent, axis=0)\n",
        "  _, attention_weights = transformer(enc_input, tf.expand_dims(summary_tok, axis=0), False)\n",
        "  attention_heads = attention_weights['decoder_layer4_block2'][0]\n",
        "\n",
        "  in_tokens = tokenizer_inputs.encode(sentence)\n",
        "  in_tokens = tf.expand_dims(in_tokens, axis=0)\n",
        "\n",
        "  fig = plt.figure(figsize=(16, 8))\n",
        "\n",
        "  for h, head in enumerate(attention_heads):\n",
        "    ax = fig.add_subplot(2, 4, h+1)\n",
        "\n",
        "    plot_attention_head(in_tokens, summary_tok, head)\n",
        "\n",
        "    ax.set_xlabel(f'Head {h+1}')\n",
        "\n",
        "  plt.tight_layout()\n",
        "  plt.show()"
      ],
      "metadata": {
        "id": "zCQZRhOG_Y6s"
      },
      "execution_count": 83,
      "outputs": []
    },
    {
      "cell_type": "code",
      "source": [
        "plot_attention_weights(sentence, summary_tok)"
      ],
      "metadata": {
        "colab": {
          "base_uri": "https://localhost:8080/",
          "height": 416
        },
        "id": "NjQ795xw_dB5",
        "outputId": "aabd6883-f2a6-4ac0-f51a-88977c8c8c6f"
      },
      "execution_count": 84,
      "outputs": [
        {
          "output_type": "display_data",
          "data": {
            "image/png": "[encoded data removed]",
            "text/plain": [
              "<Figure size 1152x576 with 8 Axes>"
            ]
          },
          "metadata": {
            "needs_background": "light"
          }
        }
      ]
    },
    {
      "cell_type": "code",
      "source": [
        "!pip install streamlit"
      ],
      "metadata": {
        "id": "-2pUEUWvGeQ6"
      },
      "execution_count": null,
      "outputs": []
    },
    {
      "cell_type": "code",
      "source": [
        "import streamlit as st\n",
        "\n",
        "# Describing the Web Application ###########################################################################\n",
        "# Title of the application\n",
        "st.title('Transformers and Semantics\\n', )\n",
        "st.subheader(\"by Michael\")\n",
        "\n",
        "# Sidebar options\n",
        "option = st.sidebar.selectbox('Navigation',\n",
        "                              [\"Summarisation with Transformer\",\n",
        "                               \"English to Mandarin Translation\",\n",
        "                               ])\n",
        "\n",
        "st.set_option('deprecation.showfileUploaderEncoding', False)"
      ],
      "metadata": {
        "id": "Wnz21hqIGYbr"
      },
      "execution_count": null,
      "outputs": []
    },
    {
      "cell_type": "code",
      "source": [
        "# Text Summarizer\n",
        "elif option == \"Summarisation with Transformer\":\n",
        "    st.header(\"Text Summarisation through Self-Attention\")\n",
        "\n",
        "    st.subheader(\"Enter a corpus that you want to summarize\")\n",
        "    text_input = st.text_area(\"Enter a paragraph\", height=150)\n",
        "    sentence_count = len(sent_tokenize(text_input))\n",
        "    st.write(\"Number of sentences:\", sentence_count)\n",
        "\n",
        "    if st.button(\"Summarize\"):\n",
        "        out = summ(summarising(text_input))\n",
        "\n",
        "        st.write(\"**Summary Output:**\", out)"
      ],
      "metadata": {
        "id": "ZaMX7tLXGZMO"
      },
      "execution_count": null,
      "outputs": []
    }
  ]
}