{
  "nbformat": 4,
  "nbformat_minor": 0,
  "metadata": {
    "colab": {
      "name": "Training-BERT-HF.ipynb",
      "provenance": [],
      "collapsed_sections": [
        "miunj_o87RJg",
        "cJHmle4KqbtD"
      ],
      "toc_visible": true,
      "authorship_tag": "ABX9TyPyRsp7+nDI6itYfdXgkRId"
    },
    "kernelspec": {
      "name": "python3",
      "display_name": "Python 3"
    },
    "language_info": {
      "name": "python"
    },
    "widgets": {
      "application/vnd.jupyter.widget-state+json": {
        "ed1e314d61e04fb2931331d3cae59144": {
          "model_module": "@jupyter-widgets/controls",
          "model_name": "HBoxModel",
          "model_module_version": "1.5.0",
          "state": {
            "_view_name": "HBoxView",
            "_dom_classes": [],
            "_model_name": "HBoxModel",
            "_view_module": "@jupyter-widgets/controls",
            "_model_module_version": "1.5.0",
            "_view_count": null,
            "_view_module_version": "1.5.0",
            "box_style": "",
            "layout": "IPY_MODEL_15ff9cfa4e0b49e8905742738027227d",
            "_model_module": "@jupyter-widgets/controls",
            "children": [
              "IPY_MODEL_3e41f72d599b418a836e05fb0b54dd80",
              "IPY_MODEL_3352d2f83d7846ebab1c45f94c0c9a99",
              "IPY_MODEL_2800b04b9d2942c7842f9b7b1f9e89fc"
            ]
          }
        },
        "15ff9cfa4e0b49e8905742738027227d": {
          "model_module": "@jupyter-widgets/base",
          "model_name": "LayoutModel",
          "model_module_version": "1.2.0",
          "state": {
            "_view_name": "LayoutView",
            "grid_template_rows": null,
            "right": null,
            "justify_content": null,
            "_view_module": "@jupyter-widgets/base",
            "overflow": null,
            "_model_module_version": "1.2.0",
            "_view_count": null,
            "flex_flow": null,
            "width": null,
            "min_width": null,
            "border": null,
            "align_items": null,
            "bottom": null,
            "_model_module": "@jupyter-widgets/base",
            "top": null,
            "grid_column": null,
            "overflow_y": null,
            "overflow_x": null,
            "grid_auto_flow": null,
            "grid_area": null,
            "grid_template_columns": null,
            "flex": null,
            "_model_name": "LayoutModel",
            "justify_items": null,
            "grid_row": null,
            "max_height": null,
            "align_content": null,
            "visibility": null,
            "align_self": null,
            "height": null,
            "min_height": null,
            "padding": null,
            "grid_auto_rows": null,
            "grid_gap": null,
            "max_width": null,
            "order": null,
            "_view_module_version": "1.2.0",
            "grid_template_areas": null,
            "object_position": null,
            "object_fit": null,
            "grid_auto_columns": null,
            "margin": null,
            "display": null,
            "left": null
          }
        },
        "3e41f72d599b418a836e05fb0b54dd80": {
          "model_module": "@jupyter-widgets/controls",
          "model_name": "HTMLModel",
          "model_module_version": "1.5.0",
          "state": {
            "_view_name": "HTMLView",
            "style": "IPY_MODEL_64acddf9db8146aeb3328d74787dfb19",
            "_dom_classes": [],
            "description": "",
            "_model_name": "HTMLModel",
            "placeholder": "​",
            "_view_module": "@jupyter-widgets/controls",
            "_model_module_version": "1.5.0",
            "value": "Downloading: 100%",
            "_view_count": null,
            "_view_module_version": "1.5.0",
            "description_tooltip": null,
            "_model_module": "@jupyter-widgets/controls",
            "layout": "IPY_MODEL_897daf94e163472baa23d3a70c6cbdaf"
          }
        },
        "3352d2f83d7846ebab1c45f94c0c9a99": {
          "model_module": "@jupyter-widgets/controls",
          "model_name": "FloatProgressModel",
          "model_module_version": "1.5.0",
          "state": {
            "_view_name": "ProgressView",
            "style": "IPY_MODEL_22d1f6d8ca024efc94f3a42946d9651a",
            "_dom_classes": [],
            "description": "",
            "_model_name": "FloatProgressModel",
            "bar_style": "success",
            "max": 665,
            "_view_module": "@jupyter-widgets/controls",
            "_model_module_version": "1.5.0",
            "value": 665,
            "_view_count": null,
            "_view_module_version": "1.5.0",
            "orientation": "horizontal",
            "min": 0,
            "description_tooltip": null,
            "_model_module": "@jupyter-widgets/controls",
            "layout": "IPY_MODEL_3edad5f031fd4930bfebbefae93df07f"
          }
        },
        "2800b04b9d2942c7842f9b7b1f9e89fc": {
          "model_module": "@jupyter-widgets/controls",
          "model_name": "HTMLModel",
          "model_module_version": "1.5.0",
          "state": {
            "_view_name": "HTMLView",
            "style": "IPY_MODEL_fbb2bd2c3b3449bab0fe1ef2336ef548",
            "_dom_classes": [],
            "description": "",
            "_model_name": "HTMLModel",
            "placeholder": "​",
            "_view_module": "@jupyter-widgets/controls",
            "_model_module_version": "1.5.0",
            "value": " 665/665 [00:00&lt;00:00, 5.26kB/s]",
            "_view_count": null,
            "_view_module_version": "1.5.0",
            "description_tooltip": null,
            "_model_module": "@jupyter-widgets/controls",
            "layout": "IPY_MODEL_fc59e80312e2492da5fe3c8e0ac8c1b2"
          }
        },
        "64acddf9db8146aeb3328d74787dfb19": {
          "model_module": "@jupyter-widgets/controls",
          "model_name": "DescriptionStyleModel",
          "model_module_version": "1.5.0",
          "state": {
            "_view_name": "StyleView",
            "_model_name": "DescriptionStyleModel",
            "description_width": "",
            "_view_module": "@jupyter-widgets/base",
            "_model_module_version": "1.5.0",
            "_view_count": null,
            "_view_module_version": "1.2.0",
            "_model_module": "@jupyter-widgets/controls"
          }
        },
        "897daf94e163472baa23d3a70c6cbdaf": {
          "model_module": "@jupyter-widgets/base",
          "model_name": "LayoutModel",
          "model_module_version": "1.2.0",
          "state": {
            "_view_name": "LayoutView",
            "grid_template_rows": null,
            "right": null,
            "justify_content": null,
            "_view_module": "@jupyter-widgets/base",
            "overflow": null,
            "_model_module_version": "1.2.0",
            "_view_count": null,
            "flex_flow": null,
            "width": null,
            "min_width": null,
            "border": null,
            "align_items": null,
            "bottom": null,
            "_model_module": "@jupyter-widgets/base",
            "top": null,
            "grid_column": null,
            "overflow_y": null,
            "overflow_x": null,
            "grid_auto_flow": null,
            "grid_area": null,
            "grid_template_columns": null,
            "flex": null,
            "_model_name": "LayoutModel",
            "justify_items": null,
            "grid_row": null,
            "max_height": null,
            "align_content": null,
            "visibility": null,
            "align_self": null,
            "height": null,
            "min_height": null,
            "padding": null,
            "grid_auto_rows": null,
            "grid_gap": null,
            "max_width": null,
            "order": null,
            "_view_module_version": "1.2.0",
            "grid_template_areas": null,
            "object_position": null,
            "object_fit": null,
            "grid_auto_columns": null,
            "margin": null,
            "display": null,
            "left": null
          }
        },
        "22d1f6d8ca024efc94f3a42946d9651a": {
          "model_module": "@jupyter-widgets/controls",
          "model_name": "ProgressStyleModel",
          "model_module_version": "1.5.0",
          "state": {
            "_view_name": "StyleView",
            "_model_name": "ProgressStyleModel",
            "description_width": "",
            "_view_module": "@jupyter-widgets/base",
            "_model_module_version": "1.5.0",
            "_view_count": null,
            "_view_module_version": "1.2.0",
            "bar_color": null,
            "_model_module": "@jupyter-widgets/controls"
          }
        },
        "3edad5f031fd4930bfebbefae93df07f": {
          "model_module": "@jupyter-widgets/base",
          "model_name": "LayoutModel",
          "model_module_version": "1.2.0",
          "state": {
            "_view_name": "LayoutView",
            "grid_template_rows": null,
            "right": null,
            "justify_content": null,
            "_view_module": "@jupyter-widgets/base",
            "overflow": null,
            "_model_module_version": "1.2.0",
            "_view_count": null,
            "flex_flow": null,
            "width": null,
            "min_width": null,
            "border": null,
            "align_items": null,
            "bottom": null,
            "_model_module": "@jupyter-widgets/base",
            "top": null,
            "grid_column": null,
            "overflow_y": null,
            "overflow_x": null,
            "grid_auto_flow": null,
            "grid_area": null,
            "grid_template_columns": null,
            "flex": null,
            "_model_name": "LayoutModel",
            "justify_items": null,
            "grid_row": null,
            "max_height": null,
            "align_content": null,
            "visibility": null,
            "align_self": null,
            "height": null,
            "min_height": null,
            "padding": null,
            "grid_auto_rows": null,
            "grid_gap": null,
            "max_width": null,
            "order": null,
            "_view_module_version": "1.2.0",
            "grid_template_areas": null,
            "object_position": null,
            "object_fit": null,
            "grid_auto_columns": null,
            "margin": null,
            "display": null,
            "left": null
          }
        },
        "fbb2bd2c3b3449bab0fe1ef2336ef548": {
          "model_module": "@jupyter-widgets/controls",
          "model_name": "DescriptionStyleModel",
          "model_module_version": "1.5.0",
          "state": {
            "_view_name": "StyleView",
            "_model_name": "DescriptionStyleModel",
            "description_width": "",
            "_view_module": "@jupyter-widgets/base",
            "_model_module_version": "1.5.0",
            "_view_count": null,
            "_view_module_version": "1.2.0",
            "_model_module": "@jupyter-widgets/controls"
          }
        },
        "fc59e80312e2492da5fe3c8e0ac8c1b2": {
          "model_module": "@jupyter-widgets/base",
          "model_name": "LayoutModel",
          "model_module_version": "1.2.0",
          "state": {
            "_view_name": "LayoutView",
            "grid_template_rows": null,
            "right": null,
            "justify_content": null,
            "_view_module": "@jupyter-widgets/base",
            "overflow": null,
            "_model_module_version": "1.2.0",
            "_view_count": null,
            "flex_flow": null,
            "width": null,
            "min_width": null,
            "border": null,
            "align_items": null,
            "bottom": null,
            "_model_module": "@jupyter-widgets/base",
            "top": null,
            "grid_column": null,
            "overflow_y": null,
            "overflow_x": null,
            "grid_auto_flow": null,
            "grid_area": null,
            "grid_template_columns": null,
            "flex": null,
            "_model_name": "LayoutModel",
            "justify_items": null,
            "grid_row": null,
            "max_height": null,
            "align_content": null,
            "visibility": null,
            "align_self": null,
            "height": null,
            "min_height": null,
            "padding": null,
            "grid_auto_rows": null,
            "grid_gap": null,
            "max_width": null,
            "order": null,
            "_view_module_version": "1.2.0",
            "grid_template_areas": null,
            "object_position": null,
            "object_fit": null,
            "grid_auto_columns": null,
            "margin": null,
            "display": null,
            "left": null
          }
        },
        "bb6ce1b7b0fc44e5ac36a2105f56c7d0": {
          "model_module": "@jupyter-widgets/controls",
          "model_name": "HBoxModel",
          "model_module_version": "1.5.0",
          "state": {
            "_view_name": "HBoxView",
            "_dom_classes": [],
            "_model_name": "HBoxModel",
            "_view_module": "@jupyter-widgets/controls",
            "_model_module_version": "1.5.0",
            "_view_count": null,
            "_view_module_version": "1.5.0",
            "box_style": "",
            "layout": "IPY_MODEL_c6df6ea9778646668a35b12daeab4c3a",
            "_model_module": "@jupyter-widgets/controls",
            "children": [
              "IPY_MODEL_3a268fed42b34a2faffafa98a734e27f",
              "IPY_MODEL_ae7d841fda564f9999189f32f77ecbb9",
              "IPY_MODEL_cb54bd510115430f84ec7c7371de59f2"
            ]
          }
        },
        "c6df6ea9778646668a35b12daeab4c3a": {
          "model_module": "@jupyter-widgets/base",
          "model_name": "LayoutModel",
          "model_module_version": "1.2.0",
          "state": {
            "_view_name": "LayoutView",
            "grid_template_rows": null,
            "right": null,
            "justify_content": null,
            "_view_module": "@jupyter-widgets/base",
            "overflow": null,
            "_model_module_version": "1.2.0",
            "_view_count": null,
            "flex_flow": null,
            "width": null,
            "min_width": null,
            "border": null,
            "align_items": null,
            "bottom": null,
            "_model_module": "@jupyter-widgets/base",
            "top": null,
            "grid_column": null,
            "overflow_y": null,
            "overflow_x": null,
            "grid_auto_flow": null,
            "grid_area": null,
            "grid_template_columns": null,
            "flex": null,
            "_model_name": "LayoutModel",
            "justify_items": null,
            "grid_row": null,
            "max_height": null,
            "align_content": null,
            "visibility": null,
            "align_self": null,
            "height": null,
            "min_height": null,
            "padding": null,
            "grid_auto_rows": null,
            "grid_gap": null,
            "max_width": null,
            "order": null,
            "_view_module_version": "1.2.0",
            "grid_template_areas": null,
            "object_position": null,
            "object_fit": null,
            "grid_auto_columns": null,
            "margin": null,
            "display": null,
            "left": null
          }
        },
        "3a268fed42b34a2faffafa98a734e27f": {
          "model_module": "@jupyter-widgets/controls",
          "model_name": "HTMLModel",
          "model_module_version": "1.5.0",
          "state": {
            "_view_name": "HTMLView",
            "style": "IPY_MODEL_90b630c264294848b2351c40241fa592",
            "_dom_classes": [],
            "description": "",
            "_model_name": "HTMLModel",
            "placeholder": "​",
            "_view_module": "@jupyter-widgets/controls",
            "_model_module_version": "1.5.0",
            "value": "Downloading: 100%",
            "_view_count": null,
            "_view_module_version": "1.5.0",
            "description_tooltip": null,
            "_model_module": "@jupyter-widgets/controls",
            "layout": "IPY_MODEL_d64ff617a15f4f749fff48b298fd566a"
          }
        },
        "ae7d841fda564f9999189f32f77ecbb9": {
          "model_module": "@jupyter-widgets/controls",
          "model_name": "FloatProgressModel",
          "model_module_version": "1.5.0",
          "state": {
            "_view_name": "ProgressView",
            "style": "IPY_MODEL_d023049f210343aca27aaa796ab6f0ca",
            "_dom_classes": [],
            "description": "",
            "_model_name": "FloatProgressModel",
            "bar_style": "success",
            "max": 548118077,
            "_view_module": "@jupyter-widgets/controls",
            "_model_module_version": "1.5.0",
            "value": 548118077,
            "_view_count": null,
            "_view_module_version": "1.5.0",
            "orientation": "horizontal",
            "min": 0,
            "description_tooltip": null,
            "_model_module": "@jupyter-widgets/controls",
            "layout": "IPY_MODEL_f739274d1b9d4a9fb758db03af7872fb"
          }
        },
        "cb54bd510115430f84ec7c7371de59f2": {
          "model_module": "@jupyter-widgets/controls",
          "model_name": "HTMLModel",
          "model_module_version": "1.5.0",
          "state": {
            "_view_name": "HTMLView",
            "style": "IPY_MODEL_7a738ee8d67b44bfa6c74f9a49de1668",
            "_dom_classes": [],
            "description": "",
            "_model_name": "HTMLModel",
            "placeholder": "​",
            "_view_module": "@jupyter-widgets/controls",
            "_model_module_version": "1.5.0",
            "value": " 523M/523M [00:18&lt;00:00, 45.2MB/s]",
            "_view_count": null,
            "_view_module_version": "1.5.0",
            "description_tooltip": null,
            "_model_module": "@jupyter-widgets/controls",
            "layout": "IPY_MODEL_fc7b45b967f345d49fdc544ff5a074bd"
          }
        },
        "90b630c264294848b2351c40241fa592": {
          "model_module": "@jupyter-widgets/controls",
          "model_name": "DescriptionStyleModel",
          "model_module_version": "1.5.0",
          "state": {
            "_view_name": "StyleView",
            "_model_name": "DescriptionStyleModel",
            "description_width": "",
            "_view_module": "@jupyter-widgets/base",
            "_model_module_version": "1.5.0",
            "_view_count": null,
            "_view_module_version": "1.2.0",
            "_model_module": "@jupyter-widgets/controls"
          }
        },
        "d64ff617a15f4f749fff48b298fd566a": {
          "model_module": "@jupyter-widgets/base",
          "model_name": "LayoutModel",
          "model_module_version": "1.2.0",
          "state": {
            "_view_name": "LayoutView",
            "grid_template_rows": null,
            "right": null,
            "justify_content": null,
            "_view_module": "@jupyter-widgets/base",
            "overflow": null,
            "_model_module_version": "1.2.0",
            "_view_count": null,
            "flex_flow": null,
            "width": null,
            "min_width": null,
            "border": null,
            "align_items": null,
            "bottom": null,
            "_model_module": "@jupyter-widgets/base",
            "top": null,
            "grid_column": null,
            "overflow_y": null,
            "overflow_x": null,
            "grid_auto_flow": null,
            "grid_area": null,
            "grid_template_columns": null,
            "flex": null,
            "_model_name": "LayoutModel",
            "justify_items": null,
            "grid_row": null,
            "max_height": null,
            "align_content": null,
            "visibility": null,
            "align_self": null,
            "height": null,
            "min_height": null,
            "padding": null,
            "grid_auto_rows": null,
            "grid_gap": null,
            "max_width": null,
            "order": null,
            "_view_module_version": "1.2.0",
            "grid_template_areas": null,
            "object_position": null,
            "object_fit": null,
            "grid_auto_columns": null,
            "margin": null,
            "display": null,
            "left": null
          }
        },
        "d023049f210343aca27aaa796ab6f0ca": {
          "model_module": "@jupyter-widgets/controls",
          "model_name": "ProgressStyleModel",
          "model_module_version": "1.5.0",
          "state": {
            "_view_name": "StyleView",
            "_model_name": "ProgressStyleModel",
            "description_width": "",
            "_view_module": "@jupyter-widgets/base",
            "_model_module_version": "1.5.0",
            "_view_count": null,
            "_view_module_version": "1.2.0",
            "bar_color": null,
            "_model_module": "@jupyter-widgets/controls"
          }
        },
        "f739274d1b9d4a9fb758db03af7872fb": {
          "model_module": "@jupyter-widgets/base",
          "model_name": "LayoutModel",
          "model_module_version": "1.2.0",
          "state": {
            "_view_name": "LayoutView",
            "grid_template_rows": null,
            "right": null,
            "justify_content": null,
            "_view_module": "@jupyter-widgets/base",
            "overflow": null,
            "_model_module_version": "1.2.0",
            "_view_count": null,
            "flex_flow": null,
            "width": null,
            "min_width": null,
            "border": null,
            "align_items": null,
            "bottom": null,
            "_model_module": "@jupyter-widgets/base",
            "top": null,
            "grid_column": null,
            "overflow_y": null,
            "overflow_x": null,
            "grid_auto_flow": null,
            "grid_area": null,
            "grid_template_columns": null,
            "flex": null,
            "_model_name": "LayoutModel",
            "justify_items": null,
            "grid_row": null,
            "max_height": null,
            "align_content": null,
            "visibility": null,
            "align_self": null,
            "height": null,
            "min_height": null,
            "padding": null,
            "grid_auto_rows": null,
            "grid_gap": null,
            "max_width": null,
            "order": null,
            "_view_module_version": "1.2.0",
            "grid_template_areas": null,
            "object_position": null,
            "object_fit": null,
            "grid_auto_columns": null,
            "margin": null,
            "display": null,
            "left": null
          }
        },
        "7a738ee8d67b44bfa6c74f9a49de1668": {
          "model_module": "@jupyter-widgets/controls",
          "model_name": "DescriptionStyleModel",
          "model_module_version": "1.5.0",
          "state": {
            "_view_name": "StyleView",
            "_model_name": "DescriptionStyleModel",
            "description_width": "",
            "_view_module": "@jupyter-widgets/base",
            "_model_module_version": "1.5.0",
            "_view_count": null,
            "_view_module_version": "1.2.0",
            "_model_module": "@jupyter-widgets/controls"
          }
        },
        "fc7b45b967f345d49fdc544ff5a074bd": {
          "model_module": "@jupyter-widgets/base",
          "model_name": "LayoutModel",
          "model_module_version": "1.2.0",
          "state": {
            "_view_name": "LayoutView",
            "grid_template_rows": null,
            "right": null,
            "justify_content": null,
            "_view_module": "@jupyter-widgets/base",
            "overflow": null,
            "_model_module_version": "1.2.0",
            "_view_count": null,
            "flex_flow": null,
            "width": null,
            "min_width": null,
            "border": null,
            "align_items": null,
            "bottom": null,
            "_model_module": "@jupyter-widgets/base",
            "top": null,
            "grid_column": null,
            "overflow_y": null,
            "overflow_x": null,
            "grid_auto_flow": null,
            "grid_area": null,
            "grid_template_columns": null,
            "flex": null,
            "_model_name": "LayoutModel",
            "justify_items": null,
            "grid_row": null,
            "max_height": null,
            "align_content": null,
            "visibility": null,
            "align_self": null,
            "height": null,
            "min_height": null,
            "padding": null,
            "grid_auto_rows": null,
            "grid_gap": null,
            "max_width": null,
            "order": null,
            "_view_module_version": "1.2.0",
            "grid_template_areas": null,
            "object_position": null,
            "object_fit": null,
            "grid_auto_columns": null,
            "margin": null,
            "display": null,
            "left": null
          }
        },
        "4dce06f548e846d4b3a351aebb35e011": {
          "model_module": "@jupyter-widgets/controls",
          "model_name": "HBoxModel",
          "model_module_version": "1.5.0",
          "state": {
            "_view_name": "HBoxView",
            "_dom_classes": [],
            "_model_name": "HBoxModel",
            "_view_module": "@jupyter-widgets/controls",
            "_model_module_version": "1.5.0",
            "_view_count": null,
            "_view_module_version": "1.5.0",
            "box_style": "",
            "layout": "IPY_MODEL_fdbd456e766049db8f797dd6e08b1a68",
            "_model_module": "@jupyter-widgets/controls",
            "children": [
              "IPY_MODEL_bb9c75b26e2c4c31a8a98247e981397b",
              "IPY_MODEL_aa7ce27b48b94665b1466ebb10f069d8",
              "IPY_MODEL_2df2bc907cfe4b39b609b3c4fef2f16d"
            ]
          }
        },
        "fdbd456e766049db8f797dd6e08b1a68": {
          "model_module": "@jupyter-widgets/base",
          "model_name": "LayoutModel",
          "model_module_version": "1.2.0",
          "state": {
            "_view_name": "LayoutView",
            "grid_template_rows": null,
            "right": null,
            "justify_content": null,
            "_view_module": "@jupyter-widgets/base",
            "overflow": null,
            "_model_module_version": "1.2.0",
            "_view_count": null,
            "flex_flow": null,
            "width": null,
            "min_width": null,
            "border": null,
            "align_items": null,
            "bottom": null,
            "_model_module": "@jupyter-widgets/base",
            "top": null,
            "grid_column": null,
            "overflow_y": null,
            "overflow_x": null,
            "grid_auto_flow": null,
            "grid_area": null,
            "grid_template_columns": null,
            "flex": null,
            "_model_name": "LayoutModel",
            "justify_items": null,
            "grid_row": null,
            "max_height": null,
            "align_content": null,
            "visibility": null,
            "align_self": null,
            "height": null,
            "min_height": null,
            "padding": null,
            "grid_auto_rows": null,
            "grid_gap": null,
            "max_width": null,
            "order": null,
            "_view_module_version": "1.2.0",
            "grid_template_areas": null,
            "object_position": null,
            "object_fit": null,
            "grid_auto_columns": null,
            "margin": null,
            "display": null,
            "left": null
          }
        },
        "bb9c75b26e2c4c31a8a98247e981397b": {
          "model_module": "@jupyter-widgets/controls",
          "model_name": "HTMLModel",
          "model_module_version": "1.5.0",
          "state": {
            "_view_name": "HTMLView",
            "style": "IPY_MODEL_6cab5ee464fd4c89b0a4982684a33181",
            "_dom_classes": [],
            "description": "",
            "_model_name": "HTMLModel",
            "placeholder": "​",
            "_view_module": "@jupyter-widgets/controls",
            "_model_module_version": "1.5.0",
            "value": "Downloading: 100%",
            "_view_count": null,
            "_view_module_version": "1.5.0",
            "description_tooltip": null,
            "_model_module": "@jupyter-widgets/controls",
            "layout": "IPY_MODEL_bb00be8a5f3140e18e485cb17c27d865"
          }
        },
        "aa7ce27b48b94665b1466ebb10f069d8": {
          "model_module": "@jupyter-widgets/controls",
          "model_name": "FloatProgressModel",
          "model_module_version": "1.5.0",
          "state": {
            "_view_name": "ProgressView",
            "style": "IPY_MODEL_d954f9ebc27748e786ca61b8afaf8b85",
            "_dom_classes": [],
            "description": "",
            "_model_name": "FloatProgressModel",
            "bar_style": "success",
            "max": 1042301,
            "_view_module": "@jupyter-widgets/controls",
            "_model_module_version": "1.5.0",
            "value": 1042301,
            "_view_count": null,
            "_view_module_version": "1.5.0",
            "orientation": "horizontal",
            "min": 0,
            "description_tooltip": null,
            "_model_module": "@jupyter-widgets/controls",
            "layout": "IPY_MODEL_7aa86886bc51475385f93a6c1ebfa713"
          }
        },
        "2df2bc907cfe4b39b609b3c4fef2f16d": {
          "model_module": "@jupyter-widgets/controls",
          "model_name": "HTMLModel",
          "model_module_version": "1.5.0",
          "state": {
            "_view_name": "HTMLView",
            "style": "IPY_MODEL_28766ef85a14480581a08aaafef21639",
            "_dom_classes": [],
            "description": "",
            "_model_name": "HTMLModel",
            "placeholder": "​",
            "_view_module": "@jupyter-widgets/controls",
            "_model_module_version": "1.5.0",
            "value": " 0.99M/0.99M [00:00&lt;00:00, 1.43MB/s]",
            "_view_count": null,
            "_view_module_version": "1.5.0",
            "description_tooltip": null,
            "_model_module": "@jupyter-widgets/controls",
            "layout": "IPY_MODEL_ae867bda59fc419b8c93d21fd6d739ba"
          }
        },
        "6cab5ee464fd4c89b0a4982684a33181": {
          "model_module": "@jupyter-widgets/controls",
          "model_name": "DescriptionStyleModel",
          "model_module_version": "1.5.0",
          "state": {
            "_view_name": "StyleView",
            "_model_name": "DescriptionStyleModel",
            "description_width": "",
            "_view_module": "@jupyter-widgets/base",
            "_model_module_version": "1.5.0",
            "_view_count": null,
            "_view_module_version": "1.2.0",
            "_model_module": "@jupyter-widgets/controls"
          }
        },
        "bb00be8a5f3140e18e485cb17c27d865": {
          "model_module": "@jupyter-widgets/base",
          "model_name": "LayoutModel",
          "model_module_version": "1.2.0",
          "state": {
            "_view_name": "LayoutView",
            "grid_template_rows": null,
            "right": null,
            "justify_content": null,
            "_view_module": "@jupyter-widgets/base",
            "overflow": null,
            "_model_module_version": "1.2.0",
            "_view_count": null,
            "flex_flow": null,
            "width": null,
            "min_width": null,
            "border": null,
            "align_items": null,
            "bottom": null,
            "_model_module": "@jupyter-widgets/base",
            "top": null,
            "grid_column": null,
            "overflow_y": null,
            "overflow_x": null,
            "grid_auto_flow": null,
            "grid_area": null,
            "grid_template_columns": null,
            "flex": null,
            "_model_name": "LayoutModel",
            "justify_items": null,
            "grid_row": null,
            "max_height": null,
            "align_content": null,
            "visibility": null,
            "align_self": null,
            "height": null,
            "min_height": null,
            "padding": null,
            "grid_auto_rows": null,
            "grid_gap": null,
            "max_width": null,
            "order": null,
            "_view_module_version": "1.2.0",
            "grid_template_areas": null,
            "object_position": null,
            "object_fit": null,
            "grid_auto_columns": null,
            "margin": null,
            "display": null,
            "left": null
          }
        },
        "d954f9ebc27748e786ca61b8afaf8b85": {
          "model_module": "@jupyter-widgets/controls",
          "model_name": "ProgressStyleModel",
          "model_module_version": "1.5.0",
          "state": {
            "_view_name": "StyleView",
            "_model_name": "ProgressStyleModel",
            "description_width": "",
            "_view_module": "@jupyter-widgets/base",
            "_model_module_version": "1.5.0",
            "_view_count": null,
            "_view_module_version": "1.2.0",
            "bar_color": null,
            "_model_module": "@jupyter-widgets/controls"
          }
        },
        "7aa86886bc51475385f93a6c1ebfa713": {
          "model_module": "@jupyter-widgets/base",
          "model_name": "LayoutModel",
          "model_module_version": "1.2.0",
          "state": {
            "_view_name": "LayoutView",
            "grid_template_rows": null,
            "right": null,
            "justify_content": null,
            "_view_module": "@jupyter-widgets/base",
            "overflow": null,
            "_model_module_version": "1.2.0",
            "_view_count": null,
            "flex_flow": null,
            "width": null,
            "min_width": null,
            "border": null,
            "align_items": null,
            "bottom": null,
            "_model_module": "@jupyter-widgets/base",
            "top": null,
            "grid_column": null,
            "overflow_y": null,
            "overflow_x": null,
            "grid_auto_flow": null,
            "grid_area": null,
            "grid_template_columns": null,
            "flex": null,
            "_model_name": "LayoutModel",
            "justify_items": null,
            "grid_row": null,
            "max_height": null,
            "align_content": null,
            "visibility": null,
            "align_self": null,
            "height": null,
            "min_height": null,
            "padding": null,
            "grid_auto_rows": null,
            "grid_gap": null,
            "max_width": null,
            "order": null,
            "_view_module_version": "1.2.0",
            "grid_template_areas": null,
            "object_position": null,
            "object_fit": null,
            "grid_auto_columns": null,
            "margin": null,
            "display": null,
            "left": null
          }
        },
        "28766ef85a14480581a08aaafef21639": {
          "model_module": "@jupyter-widgets/controls",
          "model_name": "DescriptionStyleModel",
          "model_module_version": "1.5.0",
          "state": {
            "_view_name": "StyleView",
            "_model_name": "DescriptionStyleModel",
            "description_width": "",
            "_view_module": "@jupyter-widgets/base",
            "_model_module_version": "1.5.0",
            "_view_count": null,
            "_view_module_version": "1.2.0",
            "_model_module": "@jupyter-widgets/controls"
          }
        },
        "ae867bda59fc419b8c93d21fd6d739ba": {
          "model_module": "@jupyter-widgets/base",
          "model_name": "LayoutModel",
          "model_module_version": "1.2.0",
          "state": {
            "_view_name": "LayoutView",
            "grid_template_rows": null,
            "right": null,
            "justify_content": null,
            "_view_module": "@jupyter-widgets/base",
            "overflow": null,
            "_model_module_version": "1.2.0",
            "_view_count": null,
            "flex_flow": null,
            "width": null,
            "min_width": null,
            "border": null,
            "align_items": null,
            "bottom": null,
            "_model_module": "@jupyter-widgets/base",
            "top": null,
            "grid_column": null,
            "overflow_y": null,
            "overflow_x": null,
            "grid_auto_flow": null,
            "grid_area": null,
            "grid_template_columns": null,
            "flex": null,
            "_model_name": "LayoutModel",
            "justify_items": null,
            "grid_row": null,
            "max_height": null,
            "align_content": null,
            "visibility": null,
            "align_self": null,
            "height": null,
            "min_height": null,
            "padding": null,
            "grid_auto_rows": null,
            "grid_gap": null,
            "max_width": null,
            "order": null,
            "_view_module_version": "1.2.0",
            "grid_template_areas": null,
            "object_position": null,
            "object_fit": null,
            "grid_auto_columns": null,
            "margin": null,
            "display": null,
            "left": null
          }
        },
        "fb7a6b35b27742c7ba73e045376ca878": {
          "model_module": "@jupyter-widgets/controls",
          "model_name": "HBoxModel",
          "model_module_version": "1.5.0",
          "state": {
            "_view_name": "HBoxView",
            "_dom_classes": [],
            "_model_name": "HBoxModel",
            "_view_module": "@jupyter-widgets/controls",
            "_model_module_version": "1.5.0",
            "_view_count": null,
            "_view_module_version": "1.5.0",
            "box_style": "",
            "layout": "IPY_MODEL_a91e77b672b54a72be9959cfa424320b",
            "_model_module": "@jupyter-widgets/controls",
            "children": [
              "IPY_MODEL_efbcc22bc4384baea3e93e514031c9b8",
              "IPY_MODEL_7d3589b97ff24fa881f2f6e55d6ab53f",
              "IPY_MODEL_8143dd24be834fa1b9e249d6d645efbb"
            ]
          }
        },
        "a91e77b672b54a72be9959cfa424320b": {
          "model_module": "@jupyter-widgets/base",
          "model_name": "LayoutModel",
          "model_module_version": "1.2.0",
          "state": {
            "_view_name": "LayoutView",
            "grid_template_rows": null,
            "right": null,
            "justify_content": null,
            "_view_module": "@jupyter-widgets/base",
            "overflow": null,
            "_model_module_version": "1.2.0",
            "_view_count": null,
            "flex_flow": null,
            "width": null,
            "min_width": null,
            "border": null,
            "align_items": null,
            "bottom": null,
            "_model_module": "@jupyter-widgets/base",
            "top": null,
            "grid_column": null,
            "overflow_y": null,
            "overflow_x": null,
            "grid_auto_flow": null,
            "grid_area": null,
            "grid_template_columns": null,
            "flex": null,
            "_model_name": "LayoutModel",
            "justify_items": null,
            "grid_row": null,
            "max_height": null,
            "align_content": null,
            "visibility": null,
            "align_self": null,
            "height": null,
            "min_height": null,
            "padding": null,
            "grid_auto_rows": null,
            "grid_gap": null,
            "max_width": null,
            "order": null,
            "_view_module_version": "1.2.0",
            "grid_template_areas": null,
            "object_position": null,
            "object_fit": null,
            "grid_auto_columns": null,
            "margin": null,
            "display": null,
            "left": null
          }
        },
        "efbcc22bc4384baea3e93e514031c9b8": {
          "model_module": "@jupyter-widgets/controls",
          "model_name": "HTMLModel",
          "model_module_version": "1.5.0",
          "state": {
            "_view_name": "HTMLView",
            "style": "IPY_MODEL_e9f0f002dc51493dbe38f3a6d980b7cb",
            "_dom_classes": [],
            "description": "",
            "_model_name": "HTMLModel",
            "placeholder": "​",
            "_view_module": "@jupyter-widgets/controls",
            "_model_module_version": "1.5.0",
            "value": "Downloading: 100%",
            "_view_count": null,
            "_view_module_version": "1.5.0",
            "description_tooltip": null,
            "_model_module": "@jupyter-widgets/controls",
            "layout": "IPY_MODEL_ddb0a6e1ddbd4a60a2626def054b60a4"
          }
        },
        "7d3589b97ff24fa881f2f6e55d6ab53f": {
          "model_module": "@jupyter-widgets/controls",
          "model_name": "FloatProgressModel",
          "model_module_version": "1.5.0",
          "state": {
            "_view_name": "ProgressView",
            "style": "IPY_MODEL_a4fe3d586fdf4580b369127a02407ba5",
            "_dom_classes": [],
            "description": "",
            "_model_name": "FloatProgressModel",
            "bar_style": "success",
            "max": 456318,
            "_view_module": "@jupyter-widgets/controls",
            "_model_module_version": "1.5.0",
            "value": 456318,
            "_view_count": null,
            "_view_module_version": "1.5.0",
            "orientation": "horizontal",
            "min": 0,
            "description_tooltip": null,
            "_model_module": "@jupyter-widgets/controls",
            "layout": "IPY_MODEL_2d889e8ac48d46ceaa94d318215c869a"
          }
        },
        "8143dd24be834fa1b9e249d6d645efbb": {
          "model_module": "@jupyter-widgets/controls",
          "model_name": "HTMLModel",
          "model_module_version": "1.5.0",
          "state": {
            "_view_name": "HTMLView",
            "style": "IPY_MODEL_ef986ed0f46c49d983f364023dcee0d0",
            "_dom_classes": [],
            "description": "",
            "_model_name": "HTMLModel",
            "placeholder": "​",
            "_view_module": "@jupyter-widgets/controls",
            "_model_module_version": "1.5.0",
            "value": " 446k/446k [00:00&lt;00:00, 1.90MB/s]",
            "_view_count": null,
            "_view_module_version": "1.5.0",
            "description_tooltip": null,
            "_model_module": "@jupyter-widgets/controls",
            "layout": "IPY_MODEL_39c998cc396b43f186679ab131e5c36d"
          }
        },
        "e9f0f002dc51493dbe38f3a6d980b7cb": {
          "model_module": "@jupyter-widgets/controls",
          "model_name": "DescriptionStyleModel",
          "model_module_version": "1.5.0",
          "state": {
            "_view_name": "StyleView",
            "_model_name": "DescriptionStyleModel",
            "description_width": "",
            "_view_module": "@jupyter-widgets/base",
            "_model_module_version": "1.5.0",
            "_view_count": null,
            "_view_module_version": "1.2.0",
            "_model_module": "@jupyter-widgets/controls"
          }
        },
        "ddb0a6e1ddbd4a60a2626def054b60a4": {
          "model_module": "@jupyter-widgets/base",
          "model_name": "LayoutModel",
          "model_module_version": "1.2.0",
          "state": {
            "_view_name": "LayoutView",
            "grid_template_rows": null,
            "right": null,
            "justify_content": null,
            "_view_module": "@jupyter-widgets/base",
            "overflow": null,
            "_model_module_version": "1.2.0",
            "_view_count": null,
            "flex_flow": null,
            "width": null,
            "min_width": null,
            "border": null,
            "align_items": null,
            "bottom": null,
            "_model_module": "@jupyter-widgets/base",
            "top": null,
            "grid_column": null,
            "overflow_y": null,
            "overflow_x": null,
            "grid_auto_flow": null,
            "grid_area": null,
            "grid_template_columns": null,
            "flex": null,
            "_model_name": "LayoutModel",
            "justify_items": null,
            "grid_row": null,
            "max_height": null,
            "align_content": null,
            "visibility": null,
            "align_self": null,
            "height": null,
            "min_height": null,
            "padding": null,
            "grid_auto_rows": null,
            "grid_gap": null,
            "max_width": null,
            "order": null,
            "_view_module_version": "1.2.0",
            "grid_template_areas": null,
            "object_position": null,
            "object_fit": null,
            "grid_auto_columns": null,
            "margin": null,
            "display": null,
            "left": null
          }
        },
        "a4fe3d586fdf4580b369127a02407ba5": {
          "model_module": "@jupyter-widgets/controls",
          "model_name": "ProgressStyleModel",
          "model_module_version": "1.5.0",
          "state": {
            "_view_name": "StyleView",
            "_model_name": "ProgressStyleModel",
            "description_width": "",
            "_view_module": "@jupyter-widgets/base",
            "_model_module_version": "1.5.0",
            "_view_count": null,
            "_view_module_version": "1.2.0",
            "bar_color": null,
            "_model_module": "@jupyter-widgets/controls"
          }
        },
        "2d889e8ac48d46ceaa94d318215c869a": {
          "model_module": "@jupyter-widgets/base",
          "model_name": "LayoutModel",
          "model_module_version": "1.2.0",
          "state": {
            "_view_name": "LayoutView",
            "grid_template_rows": null,
            "right": null,
            "justify_content": null,
            "_view_module": "@jupyter-widgets/base",
            "overflow": null,
            "_model_module_version": "1.2.0",
            "_view_count": null,
            "flex_flow": null,
            "width": null,
            "min_width": null,
            "border": null,
            "align_items": null,
            "bottom": null,
            "_model_module": "@jupyter-widgets/base",
            "top": null,
            "grid_column": null,
            "overflow_y": null,
            "overflow_x": null,
            "grid_auto_flow": null,
            "grid_area": null,
            "grid_template_columns": null,
            "flex": null,
            "_model_name": "LayoutModel",
            "justify_items": null,
            "grid_row": null,
            "max_height": null,
            "align_content": null,
            "visibility": null,
            "align_self": null,
            "height": null,
            "min_height": null,
            "padding": null,
            "grid_auto_rows": null,
            "grid_gap": null,
            "max_width": null,
            "order": null,
            "_view_module_version": "1.2.0",
            "grid_template_areas": null,
            "object_position": null,
            "object_fit": null,
            "grid_auto_columns": null,
            "margin": null,
            "display": null,
            "left": null
          }
        },
        "ef986ed0f46c49d983f364023dcee0d0": {
          "model_module": "@jupyter-widgets/controls",
          "model_name": "DescriptionStyleModel",
          "model_module_version": "1.5.0",
          "state": {
            "_view_name": "StyleView",
            "_model_name": "DescriptionStyleModel",
            "description_width": "",
            "_view_module": "@jupyter-widgets/base",
            "_model_module_version": "1.5.0",
            "_view_count": null,
            "_view_module_version": "1.2.0",
            "_model_module": "@jupyter-widgets/controls"
          }
        },
        "39c998cc396b43f186679ab131e5c36d": {
          "model_module": "@jupyter-widgets/base",
          "model_name": "LayoutModel",
          "model_module_version": "1.2.0",
          "state": {
            "_view_name": "LayoutView",
            "grid_template_rows": null,
            "right": null,
            "justify_content": null,
            "_view_module": "@jupyter-widgets/base",
            "overflow": null,
            "_model_module_version": "1.2.0",
            "_view_count": null,
            "flex_flow": null,
            "width": null,
            "min_width": null,
            "border": null,
            "align_items": null,
            "bottom": null,
            "_model_module": "@jupyter-widgets/base",
            "top": null,
            "grid_column": null,
            "overflow_y": null,
            "overflow_x": null,
            "grid_auto_flow": null,
            "grid_area": null,
            "grid_template_columns": null,
            "flex": null,
            "_model_name": "LayoutModel",
            "justify_items": null,
            "grid_row": null,
            "max_height": null,
            "align_content": null,
            "visibility": null,
            "align_self": null,
            "height": null,
            "min_height": null,
            "padding": null,
            "grid_auto_rows": null,
            "grid_gap": null,
            "max_width": null,
            "order": null,
            "_view_module_version": "1.2.0",
            "grid_template_areas": null,
            "object_position": null,
            "object_fit": null,
            "grid_auto_columns": null,
            "margin": null,
            "display": null,
            "left": null
          }
        },
        "beaeaf2b84684313a16ecdeffe28f5bb": {
          "model_module": "@jupyter-widgets/controls",
          "model_name": "HBoxModel",
          "model_module_version": "1.5.0",
          "state": {
            "_view_name": "HBoxView",
            "_dom_classes": [],
            "_model_name": "HBoxModel",
            "_view_module": "@jupyter-widgets/controls",
            "_model_module_version": "1.5.0",
            "_view_count": null,
            "_view_module_version": "1.5.0",
            "box_style": "",
            "layout": "IPY_MODEL_e936e1980e5340a4829a9b96a6594ae3",
            "_model_module": "@jupyter-widgets/controls",
            "children": [
              "IPY_MODEL_10d6a2c344d94fa5b0087058c384e25c",
              "IPY_MODEL_9d885f1a124a4fb09b5f2938ef8e8fe7",
              "IPY_MODEL_5df5bd01573a4208bc3afbcea3390306"
            ]
          }
        },
        "e936e1980e5340a4829a9b96a6594ae3": {
          "model_module": "@jupyter-widgets/base",
          "model_name": "LayoutModel",
          "model_module_version": "1.2.0",
          "state": {
            "_view_name": "LayoutView",
            "grid_template_rows": null,
            "right": null,
            "justify_content": null,
            "_view_module": "@jupyter-widgets/base",
            "overflow": null,
            "_model_module_version": "1.2.0",
            "_view_count": null,
            "flex_flow": null,
            "width": null,
            "min_width": null,
            "border": null,
            "align_items": null,
            "bottom": null,
            "_model_module": "@jupyter-widgets/base",
            "top": null,
            "grid_column": null,
            "overflow_y": null,
            "overflow_x": null,
            "grid_auto_flow": null,
            "grid_area": null,
            "grid_template_columns": null,
            "flex": null,
            "_model_name": "LayoutModel",
            "justify_items": null,
            "grid_row": null,
            "max_height": null,
            "align_content": null,
            "visibility": null,
            "align_self": null,
            "height": null,
            "min_height": null,
            "padding": null,
            "grid_auto_rows": null,
            "grid_gap": null,
            "max_width": null,
            "order": null,
            "_view_module_version": "1.2.0",
            "grid_template_areas": null,
            "object_position": null,
            "object_fit": null,
            "grid_auto_columns": null,
            "margin": null,
            "display": null,
            "left": null
          }
        },
        "10d6a2c344d94fa5b0087058c384e25c": {
          "model_module": "@jupyter-widgets/controls",
          "model_name": "HTMLModel",
          "model_module_version": "1.5.0",
          "state": {
            "_view_name": "HTMLView",
            "style": "IPY_MODEL_54b98228430544dfbba533d68a815bdf",
            "_dom_classes": [],
            "description": "",
            "_model_name": "HTMLModel",
            "placeholder": "​",
            "_view_module": "@jupyter-widgets/controls",
            "_model_module_version": "1.5.0",
            "value": "Downloading: 100%",
            "_view_count": null,
            "_view_module_version": "1.5.0",
            "description_tooltip": null,
            "_model_module": "@jupyter-widgets/controls",
            "layout": "IPY_MODEL_c817bdc70371427181b3b20d260e6fdd"
          }
        },
        "9d885f1a124a4fb09b5f2938ef8e8fe7": {
          "model_module": "@jupyter-widgets/controls",
          "model_name": "FloatProgressModel",
          "model_module_version": "1.5.0",
          "state": {
            "_view_name": "ProgressView",
            "style": "IPY_MODEL_b41aadd1d9aa44b5bd76930eada3b62a",
            "_dom_classes": [],
            "description": "",
            "_model_name": "FloatProgressModel",
            "bar_style": "success",
            "max": 1355256,
            "_view_module": "@jupyter-widgets/controls",
            "_model_module_version": "1.5.0",
            "value": 1355256,
            "_view_count": null,
            "_view_module_version": "1.5.0",
            "orientation": "horizontal",
            "min": 0,
            "description_tooltip": null,
            "_model_module": "@jupyter-widgets/controls",
            "layout": "IPY_MODEL_b7f4db6079b0429eaa000fd5cbc7ae51"
          }
        },
        "5df5bd01573a4208bc3afbcea3390306": {
          "model_module": "@jupyter-widgets/controls",
          "model_name": "HTMLModel",
          "model_module_version": "1.5.0",
          "state": {
            "_view_name": "HTMLView",
            "style": "IPY_MODEL_e06571bb2b194bfc843f8c6f361d7da2",
            "_dom_classes": [],
            "description": "",
            "_model_name": "HTMLModel",
            "placeholder": "​",
            "_view_module": "@jupyter-widgets/controls",
            "_model_module_version": "1.5.0",
            "value": " 1.29M/1.29M [00:00&lt;00:00, 1.50MB/s]",
            "_view_count": null,
            "_view_module_version": "1.5.0",
            "description_tooltip": null,
            "_model_module": "@jupyter-widgets/controls",
            "layout": "IPY_MODEL_4d484ba54739426da1d4942ed1ac8122"
          }
        },
        "54b98228430544dfbba533d68a815bdf": {
          "model_module": "@jupyter-widgets/controls",
          "model_name": "DescriptionStyleModel",
          "model_module_version": "1.5.0",
          "state": {
            "_view_name": "StyleView",
            "_model_name": "DescriptionStyleModel",
            "description_width": "",
            "_view_module": "@jupyter-widgets/base",
            "_model_module_version": "1.5.0",
            "_view_count": null,
            "_view_module_version": "1.2.0",
            "_model_module": "@jupyter-widgets/controls"
          }
        },
        "c817bdc70371427181b3b20d260e6fdd": {
          "model_module": "@jupyter-widgets/base",
          "model_name": "LayoutModel",
          "model_module_version": "1.2.0",
          "state": {
            "_view_name": "LayoutView",
            "grid_template_rows": null,
            "right": null,
            "justify_content": null,
            "_view_module": "@jupyter-widgets/base",
            "overflow": null,
            "_model_module_version": "1.2.0",
            "_view_count": null,
            "flex_flow": null,
            "width": null,
            "min_width": null,
            "border": null,
            "align_items": null,
            "bottom": null,
            "_model_module": "@jupyter-widgets/base",
            "top": null,
            "grid_column": null,
            "overflow_y": null,
            "overflow_x": null,
            "grid_auto_flow": null,
            "grid_area": null,
            "grid_template_columns": null,
            "flex": null,
            "_model_name": "LayoutModel",
            "justify_items": null,
            "grid_row": null,
            "max_height": null,
            "align_content": null,
            "visibility": null,
            "align_self": null,
            "height": null,
            "min_height": null,
            "padding": null,
            "grid_auto_rows": null,
            "grid_gap": null,
            "max_width": null,
            "order": null,
            "_view_module_version": "1.2.0",
            "grid_template_areas": null,
            "object_position": null,
            "object_fit": null,
            "grid_auto_columns": null,
            "margin": null,
            "display": null,
            "left": null
          }
        },
        "b41aadd1d9aa44b5bd76930eada3b62a": {
          "model_module": "@jupyter-widgets/controls",
          "model_name": "ProgressStyleModel",
          "model_module_version": "1.5.0",
          "state": {
            "_view_name": "StyleView",
            "_model_name": "ProgressStyleModel",
            "description_width": "",
            "_view_module": "@jupyter-widgets/base",
            "_model_module_version": "1.5.0",
            "_view_count": null,
            "_view_module_version": "1.2.0",
            "bar_color": null,
            "_model_module": "@jupyter-widgets/controls"
          }
        },
        "b7f4db6079b0429eaa000fd5cbc7ae51": {
          "model_module": "@jupyter-widgets/base",
          "model_name": "LayoutModel",
          "model_module_version": "1.2.0",
          "state": {
            "_view_name": "LayoutView",
            "grid_template_rows": null,
            "right": null,
            "justify_content": null,
            "_view_module": "@jupyter-widgets/base",
            "overflow": null,
            "_model_module_version": "1.2.0",
            "_view_count": null,
            "flex_flow": null,
            "width": null,
            "min_width": null,
            "border": null,
            "align_items": null,
            "bottom": null,
            "_model_module": "@jupyter-widgets/base",
            "top": null,
            "grid_column": null,
            "overflow_y": null,
            "overflow_x": null,
            "grid_auto_flow": null,
            "grid_area": null,
            "grid_template_columns": null,
            "flex": null,
            "_model_name": "LayoutModel",
            "justify_items": null,
            "grid_row": null,
            "max_height": null,
            "align_content": null,
            "visibility": null,
            "align_self": null,
            "height": null,
            "min_height": null,
            "padding": null,
            "grid_auto_rows": null,
            "grid_gap": null,
            "max_width": null,
            "order": null,
            "_view_module_version": "1.2.0",
            "grid_template_areas": null,
            "object_position": null,
            "object_fit": null,
            "grid_auto_columns": null,
            "margin": null,
            "display": null,
            "left": null
          }
        },
        "e06571bb2b194bfc843f8c6f361d7da2": {
          "model_module": "@jupyter-widgets/controls",
          "model_name": "DescriptionStyleModel",
          "model_module_version": "1.5.0",
          "state": {
            "_view_name": "StyleView",
            "_model_name": "DescriptionStyleModel",
            "description_width": "",
            "_view_module": "@jupyter-widgets/base",
            "_model_module_version": "1.5.0",
            "_view_count": null,
            "_view_module_version": "1.2.0",
            "_model_module": "@jupyter-widgets/controls"
          }
        },
        "4d484ba54739426da1d4942ed1ac8122": {
          "model_module": "@jupyter-widgets/base",
          "model_name": "LayoutModel",
          "model_module_version": "1.2.0",
          "state": {
            "_view_name": "LayoutView",
            "grid_template_rows": null,
            "right": null,
            "justify_content": null,
            "_view_module": "@jupyter-widgets/base",
            "overflow": null,
            "_model_module_version": "1.2.0",
            "_view_count": null,
            "flex_flow": null,
            "width": null,
            "min_width": null,
            "border": null,
            "align_items": null,
            "bottom": null,
            "_model_module": "@jupyter-widgets/base",
            "top": null,
            "grid_column": null,
            "overflow_y": null,
            "overflow_x": null,
            "grid_auto_flow": null,
            "grid_area": null,
            "grid_template_columns": null,
            "flex": null,
            "_model_name": "LayoutModel",
            "justify_items": null,
            "grid_row": null,
            "max_height": null,
            "align_content": null,
            "visibility": null,
            "align_self": null,
            "height": null,
            "min_height": null,
            "padding": null,
            "grid_auto_rows": null,
            "grid_gap": null,
            "max_width": null,
            "order": null,
            "_view_module_version": "1.2.0",
            "grid_template_areas": null,
            "object_position": null,
            "object_fit": null,
            "grid_auto_columns": null,
            "margin": null,
            "display": null,
            "left": null
          }
        }
      }
    }
  },
  "cells": [
    {
      "cell_type": "markdown",
      "source": [
        "# Introduction\n",
        "\n",
        "**BERT** - an encoder-only model based on the Transformer and attention architecture. Pretrained for masked language modelling and next sentence prediction. DistilBERT is a smaller version of BERT.\n",
        "\n",
        "**RoBERTa** - optimised with 1) removing the Next Sentence Prediction pre-training objective, 2) use mini-batches with a larger size, 3) with a higher learning rate, 4) for more epochs, 5) much much more data, and lastly, 6) they also changed the tokenization method to byte-level BPE.\n",
        "\n",
        "**GPT** - architecture is based on the Transformer’s decoder block. The encoder-decoder cross attention part of the block is removed because there is no encoder, and the self-attention part is replaced with the masked self-attention."
      ],
      "metadata": {
        "id": "bXb9VcYCo_kh"
      }
    },
    {
      "cell_type": "markdown",
      "source": [
        "# Simple HuggingFace Translation / Summarisation / Generation\n",
        "\n",
        "**T5-Base** - for English to German translation and then using Bert2Bert model for German to English translation. The T5 model was presented in Exploring the Limits of Transfer Learning with a Unified Text-to-Text Transformer.\n",
        "\n",
        "T5 is an encoder-decoder model pre-trained on a multi-task mixture of unsupervised and supervised tasks and for which each task is converted into a text-to-text format. T5 works well on a variety of tasks out-of-the-box by prepending a different prefix to the input corresponding to each task. E.g. translate then summarise...\n",
        "\n",
        "**BART** - one of the best pre-trained models for summarization. (BART) can be seen as generalizing Bert (due to the bidirectional encoder) and GPT2 (with the left to right decoder). Bert is pretrained to try to predict masked tokens.\n",
        "\n",
        "They used noising functions like Token Masking, Token Deletion, Token Infilling, Sentence Shuffling, and Document Rotation to prepare the encoder’s noisy input. Then an autoregressive decoder tries to recreate the original input (or denoise it).\n",
        "\n",
        "https://pub.towardsai.net/a-full-introduction-on-text-summarization-using-deep-learning-with-sample-code-ft-huggingface-d21e0336f50c"
      ],
      "metadata": {
        "id": "hQ_L87_pML0Q"
      }
    },
    {
      "cell_type": "markdown",
      "source": [
        "![image.png](data:image/png;base64,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)"
      ],
      "metadata": {
        "id": "sgPdczM1qL3V"
      }
    },
    {
      "cell_type": "code",
      "source": [
        "from transformers import pipeline\n",
        "from transformers import AutoTokenizer, AutoModelForSeq2SeqLM"
      ],
      "metadata": {
        "id": "TzZ8dtYiMD6R"
      },
      "execution_count": null,
      "outputs": []
    },
    {
      "cell_type": "markdown",
      "source": [
        "1) Build model pipeline to translate from English to German with t5-base. No need for tokenizer. 2) Then German to English with normal Bert model; tokenize with AutoTokenizer."
      ],
      "metadata": {
        "id": "soQOQ1DCmmEE"
      }
    },
    {
      "cell_type": "code",
      "source": [
        "#English to German using the Pipeline and T5\n",
        "translator_en_to_de = pipeline(\"translation_en_to_de\", model='t5-base')"
      ],
      "metadata": {
        "id": "ltRqIJZ7MJ-K"
      },
      "execution_count": null,
      "outputs": []
    },
    {
      "cell_type": "code",
      "source": [
        "#German to English using Bert2Bert model\n",
        "tokenizer = AutoTokenizer.from_pretrained(\"google/bert2bert_L-24_wmt_de_en\", pad_token=\"<pad>\", eos_token=\"</s>\", bos_token=\"<s>\")\n",
        "model_de_to_en = AutoModelForSeq2SeqLM.from_pretrained(\"google/bert2bert_L-24_wmt_de_en\")"
      ],
      "metadata": {
        "id": "sPoPEg9aMLY7"
      },
      "execution_count": null,
      "outputs": []
    },
    {
      "cell_type": "code",
      "source": [
        "input_text = \"I went to see a movie in the theater\"\n",
        "en_to_de_output = translator_en_to_de(input_text)\n",
        "translated_text = en_to_de_output[0]['translation_text']\n",
        "print(\"Translated text->\",translated_text)"
      ],
      "metadata": {
        "id": "irJFCJ5PMRTb"
      },
      "execution_count": null,
      "outputs": []
    },
    {
      "cell_type": "code",
      "source": [
        "input_ids = tokenizer(translated_text, return_tensors=\"pt\", add_special_tokens=False).input_ids\n",
        "output_ids = model_de_to_en.generate(input_ids)[0]\n",
        "augmented_text = tokenizer.decode(output_ids, skip_special_tokens=True)\n",
        "print(\"Augmented Text->\",augmented_text)"
      ],
      "metadata": {
        "id": "MRGpjlOeMh7z"
      },
      "execution_count": null,
      "outputs": []
    },
    {
      "cell_type": "markdown",
      "source": [
        "## 1. BART Summarisation\n",
        "\n",
        "Developed by Facebook. It contains 1024 hidden layers and 406M parameters and has been fine-tuned using CNN, a news summarization dataset."
      ],
      "metadata": {
        "id": "KXtMSB6COgqf"
      }
    },
    {
      "cell_type": "code",
      "source": [
        "model = BartForConditionalGeneration.from_pretrained('facebook/bart-large-cnn')"
      ],
      "metadata": {
        "id": "ncDiW7oGOAaq"
      },
      "execution_count": null,
      "outputs": []
    },
    {
      "cell_type": "markdown",
      "source": [
        "The BART model has three main components: encoder (12 layers), decoder (12 layers), and lm_head (we call it the Linear Layer). You can easily use specific parts of the architecture by calling them like model.model.encoder, model.model.decoder, and model.lm_head. However, Huggingface has built-in functions to access the encoder and decoder with a bit more flexibility."
      ],
      "metadata": {
        "id": "GCA93NwJOFTl"
      }
    },
    {
      "cell_type": "code",
      "source": [
        "from transformers import BartTokenizer\n",
        "ARTICLE_TO_SUMMARIZE = \"\"\"sebastian vettel is determined to ensure the return of a long-standing ritual at ferrari is not a one-off this season. fresh from ferrari's first victory in 35 grands prix in malaysia 11 days ago, and ending his own 20-race drought, vettel returned to a hero's welcome at the team's factory at maranello last week. the win allowed ferrari to revive a tradition not seen at their base for almost two years since their previous triumph in may 2013 at the spanish grand prix courtesy of fernando alonso. sebastian vettel reflected on his stunning win for ferrari at the malaysian grand prix during the press conference before the weekend's chinese grand prix in shanghai the four-time world champion shares a friendly discussion with mclaren star jenson button four-times world champion vettel said: 'it was a great victory we had in malaysia, great for us as a team, and for myself a very emotional day - my first win with ferrari. 'when i returned to the factory on wednesday, to see all the people there was quite special. there are a lot of people working there and as you can imagine they were very, very happy. 'the team hadn't won for quite a while, so they enjoyed the fact they had something to celebrate. there were a couple of rituals involved, so it was nice for them to get that feeling again.' asked as to the specific nature of the rituals, vettel replied: 'i was supposed to be there for simulator work anyway, but it was quite nice to receive the welcome after the win. ferrari's vettel and britta roeske arrive at the shanghai circuit along with a ferrari mechanic, vettel caught up with members of his old team red bull on thursday 'all the factory got together for a quick lunch. it was quite nice to have all the people together in one room - it was a big room! - so we were able to celebrate altogether for a bit. 'i also learned when you win with ferrari, at the entry gate, they raise a ferrari flag - and obviously it's been a long time since they last did that. 'some 10 years ago there were a lot of flags, especially at the end of a season, so this flag will stay there for the rest of the year. 'we will, of course, try and put up another one sometime soon.' inside the ferrari garage, vettel shares a discussion with team staff as he looks to build on his sepang win ferrari team principal maurizio arrivabene shares a conversation with vettel at the team's hospitality suite the feeling is that will not happen after this weekend's race in china as the conditions at the shanghai international circuit are expected to suit rivals mercedes. not that vettel believes his success will be a one-off, adding: 'for here and the next races, we should be able to confirm we have a strong package and a strong car. 'we will want to make sure we stay ahead of the people we were ahead of in the first couple of races, but obviously knowing mercedes are in a very, very strong position. 'in general, for the start of a season things can be up and down, and we want to make sure there is quite a lot of ups, not so many downs. 'but it's normal in some races you are more competitive than others. 'we managed to do a very good job in malaysia, but for here and the next races we have to be realistic about we want to achieve.' ferrari mechanics show their joy after vettel won the malaysian grand prix, helping record the team's first formula one win since 2013 at the spanish grand prix\"\"\"\n",
        "\n",
        "tokenized_input = tokenizer([ARTICLE_TO_SUMMARIZE], max_length=1024, truncation=True, return_tensors='pt')"
      ],
      "metadata": {
        "id": "Nb_qgKZGOLx6"
      },
      "execution_count": null,
      "outputs": []
    },
    {
      "cell_type": "markdown",
      "source": [
        "### Step-by-Step \n",
        "\n",
        "**The following can be automated with Generate but we can demonstrate this step by step.** Provide input data to the encoder and masking if applicable."
      ],
      "metadata": {
        "id": "LOUQZa8M0TlG"
      }
    },
    {
      "cell_type": "code",
      "source": [
        "the_encoder = model.get_encoder()\n",
        "the_decoder = model.get_decoder()\n",
        "last_linear_layer = model.lm_head"
      ],
      "metadata": {
        "id": "sUpAlwNOOA2c"
      },
      "execution_count": null,
      "outputs": []
    },
    {
      "cell_type": "code",
      "source": [
        "input_representation = the_encoder(input_ids = tokenized_input.input_ids,\n",
        "                                   attention_mask = tokenized_input.attention_mask)"
      ],
      "metadata": {
        "id": "ihNXFGguON_p"
      },
      "execution_count": null,
      "outputs": []
    },
    {
      "cell_type": "markdown",
      "source": [
        "The decoder component is the unit responsible for generating the summary. The generation process starts by passing the bos (beginning of the sentence) token to initiate the process and goes on one token at a time to complete the summary. "
      ],
      "metadata": {
        "id": "KTn-qexSPWH2"
      }
    },
    {
      "cell_type": "code",
      "source": [
        "start_token = torch.tensor([tokenizer.bos_token_id]).unsqueeze(0)\n",
        "mask_ids = torch.tensor([1]).unsqueeze(0)"
      ],
      "metadata": {
        "id": "zvCul-ucOZkU"
      },
      "execution_count": null,
      "outputs": []
    },
    {
      "cell_type": "code",
      "source": [
        "decoder_output = the_decoder(input_ids=start_token,\n",
        "                             attention_mask=mask_ids,\n",
        "                             encoder_hidden_states=input_representation[0],\n",
        "                             encoder_attention_mask=tokenized_input.attention_mask )\n",
        "decoder_output = decoder_output.last_hidden_state"
      ],
      "metadata": {
        "id": "RZbobIqTPIjz"
      },
      "execution_count": null,
      "outputs": []
    },
    {
      "cell_type": "markdown",
      "source": [
        "The logits.argmax will pick the most probable token from all the probabilities and returns the token id."
      ],
      "metadata": {
        "id": "vvXOWdU5PaE1"
      }
    },
    {
      "cell_type": "code",
      "source": [
        "logits = last_linear_layer(decoder_output[0])\n",
        "predicted_token = logits.argmax(1)"
      ],
      "metadata": {
        "id": "SH74mGNnPKR6"
      },
      "execution_count": null,
      "outputs": []
    },
    {
      "cell_type": "markdown",
      "source": [
        "### Using Generate\n",
        "\n",
        "Huggingface’s built-in function that takes care of this repetitive task."
      ],
      "metadata": {
        "id": "DAqTlkitPeKZ"
      }
    },
    {
      "cell_type": "code",
      "source": [
        "summary_ids = model.generate(tokenized_input['input_ids'], max_length=15, early_stopping=True)\n",
        "print([tokenizer.decode(g, skip_special_tokens=True, clean_up_tokenization_spaces=False) for g in summary_ids])"
      ],
      "metadata": {
        "id": "FkFp0FXKPOop"
      },
      "execution_count": null,
      "outputs": []
    },
    {
      "cell_type": "markdown",
      "source": [
        "## 2. Simple T5 Summarization\n",
        "\n",
        "**Tokenize, and Generate with T5 and GPT to produce desired output.**\n",
        "\n",
        "\n"
      ],
      "metadata": {
        "id": "xfk-xn2QQQmL"
      }
    },
    {
      "cell_type": "code",
      "source": [
        "import torch\n",
        "import json \n",
        "from transformers import T5Tokenizer, T5ForConditionalGeneration, T5Config"
      ],
      "metadata": {
        "id": "Xq2aulDxQQTU"
      },
      "execution_count": null,
      "outputs": []
    },
    {
      "cell_type": "code",
      "source": [
        "model = T5ForConditionalGeneration.from_pretrained('t5-small')\n",
        "tokenizer = T5Tokenizer.from_pretrained('t5-small')"
      ],
      "metadata": {
        "id": "WT0x75c8QX62"
      },
      "execution_count": null,
      "outputs": []
    },
    {
      "cell_type": "code",
      "source": [
        "text =\"\"\"\n",
        "The US has \"passed the peak\" on new coronavirus cases, President Donald Trump said and predicted that some states would reopen this month.\n",
        "The US has over 637,000 confirmed Covid-19 cases and over 30,826 deaths, the highest for any country in the world.\n",
        "At the daily White House coronavirus briefing on Wednesday, Trump said new guidelines to reopen the country would be announced on Thursday after he speaks to governors.\n",
        "\"We'll be the comeback kids, all of us,\" he said. \"We want to get our country back.\"\n",
        "The Trump administration has previously fixed May 1 as a possible date to reopen the world's largest economy, but the president said some states may be able to return to normalcy earlier than that.\n",
        "\"\"\"\n"
      ],
      "metadata": {
        "id": "0J8caRsqQdR7"
      },
      "execution_count": null,
      "outputs": []
    },
    {
      "cell_type": "code",
      "source": [
        "preprocess_text = text.strip().replace(\"\\n\",\"\")\n",
        "t5_prepared_Text = \"summarize: \"+preprocess_text\n",
        "print (\"original text preprocessed: \\n\", preprocess_text)"
      ],
      "metadata": {
        "id": "aQaDvusrQwcN"
      },
      "execution_count": null,
      "outputs": []
    },
    {
      "cell_type": "markdown",
      "source": [
        "Encode preprocessed text and give as tensors (Pytorch tensor). Then use model.generate on the tokenized text (with ngram size, min_length, max_length) to produce the summarised result. "
      ],
      "metadata": {
        "id": "TwjUsZOAyZr_"
      }
    },
    {
      "cell_type": "code",
      "source": [
        "tokenized_text = tokenizer.encode(t5_prepared_Text, return_tensors=\"pt\")"
      ],
      "metadata": {
        "id": "QggS3mleQyk9"
      },
      "execution_count": null,
      "outputs": []
    },
    {
      "cell_type": "code",
      "source": [
        "# summmarize \n",
        "summary_ids = model.generate(tokenized_text,\n",
        "                                    num_beams=4,\n",
        "                                    no_repeat_ngram_size=2,\n",
        "                                    min_length=30,\n",
        "                                    max_length=100,\n",
        "                                    early_stopping=True)"
      ],
      "metadata": {
        "id": "F1CRzh4mRHWX"
      },
      "execution_count": null,
      "outputs": []
    },
    {
      "cell_type": "markdown",
      "source": [
        "And finally, decode with tokenizer to give the output summary."
      ],
      "metadata": {
        "id": "xRwuiL-GzKz0"
      }
    },
    {
      "cell_type": "code",
      "source": [
        "output = tokenizer.decode(summary_ids[0], skip_special_tokens=True)"
      ],
      "metadata": {
        "id": "hjmt4pZ9RI2T"
      },
      "execution_count": null,
      "outputs": []
    },
    {
      "cell_type": "code",
      "source": [
        "print (\"\\n\\nSummarized text: \\n\",output)"
      ],
      "metadata": {
        "id": "iIbWr5KVRQKc"
      },
      "execution_count": null,
      "outputs": []
    },
    {
      "cell_type": "markdown",
      "source": [
        "## 3. Simple Text Generation with GPT2"
      ],
      "metadata": {
        "id": "rJG0Ku6WNfZh"
      }
    },
    {
      "cell_type": "code",
      "source": [
        "!pip install transformers"
      ],
      "metadata": {
        "id": "pvlEU6VDPszk"
      },
      "execution_count": null,
      "outputs": []
    },
    {
      "cell_type": "code",
      "source": [
        "from transformers import pipeline\n",
        "generator = pipeline('text-generation', model='gpt2')"
      ],
      "metadata": {
        "colab": {
          "base_uri": "https://localhost:8080/",
          "height": 177,
          "referenced_widgets": [
            "ed1e314d61e04fb2931331d3cae59144",
            "15ff9cfa4e0b49e8905742738027227d",
            "3e41f72d599b418a836e05fb0b54dd80",
            "3352d2f83d7846ebab1c45f94c0c9a99",
            "2800b04b9d2942c7842f9b7b1f9e89fc",
            "64acddf9db8146aeb3328d74787dfb19",
            "897daf94e163472baa23d3a70c6cbdaf",
            "22d1f6d8ca024efc94f3a42946d9651a",
            "3edad5f031fd4930bfebbefae93df07f",
            "fbb2bd2c3b3449bab0fe1ef2336ef548",
            "fc59e80312e2492da5fe3c8e0ac8c1b2",
            "bb6ce1b7b0fc44e5ac36a2105f56c7d0",
            "c6df6ea9778646668a35b12daeab4c3a",
            "3a268fed42b34a2faffafa98a734e27f",
            "ae7d841fda564f9999189f32f77ecbb9",
            "cb54bd510115430f84ec7c7371de59f2",
            "90b630c264294848b2351c40241fa592",
            "d64ff617a15f4f749fff48b298fd566a",
            "d023049f210343aca27aaa796ab6f0ca",
            "f739274d1b9d4a9fb758db03af7872fb",
            "7a738ee8d67b44bfa6c74f9a49de1668",
            "fc7b45b967f345d49fdc544ff5a074bd",
            "4dce06f548e846d4b3a351aebb35e011",
            "fdbd456e766049db8f797dd6e08b1a68",
            "bb9c75b26e2c4c31a8a98247e981397b",
            "aa7ce27b48b94665b1466ebb10f069d8",
            "2df2bc907cfe4b39b609b3c4fef2f16d",
            "6cab5ee464fd4c89b0a4982684a33181",
            "bb00be8a5f3140e18e485cb17c27d865",
            "d954f9ebc27748e786ca61b8afaf8b85",
            "7aa86886bc51475385f93a6c1ebfa713",
            "28766ef85a14480581a08aaafef21639",
            "ae867bda59fc419b8c93d21fd6d739ba",
            "fb7a6b35b27742c7ba73e045376ca878",
            "a91e77b672b54a72be9959cfa424320b",
            "efbcc22bc4384baea3e93e514031c9b8",
            "7d3589b97ff24fa881f2f6e55d6ab53f",
            "8143dd24be834fa1b9e249d6d645efbb",
            "e9f0f002dc51493dbe38f3a6d980b7cb",
            "ddb0a6e1ddbd4a60a2626def054b60a4",
            "a4fe3d586fdf4580b369127a02407ba5",
            "2d889e8ac48d46ceaa94d318215c869a",
            "ef986ed0f46c49d983f364023dcee0d0",
            "39c998cc396b43f186679ab131e5c36d",
            "beaeaf2b84684313a16ecdeffe28f5bb",
            "e936e1980e5340a4829a9b96a6594ae3",
            "10d6a2c344d94fa5b0087058c384e25c",
            "9d885f1a124a4fb09b5f2938ef8e8fe7",
            "5df5bd01573a4208bc3afbcea3390306",
            "54b98228430544dfbba533d68a815bdf",
            "c817bdc70371427181b3b20d260e6fdd",
            "b41aadd1d9aa44b5bd76930eada3b62a",
            "b7f4db6079b0429eaa000fd5cbc7ae51",
            "e06571bb2b194bfc843f8c6f361d7da2",
            "4d484ba54739426da1d4942ed1ac8122"
          ]
        },
        "id": "2St4NY26Pk_h",
        "outputId": "ebf15efd-79d9-4ee3-841c-5ebaa972f3d8"
      },
      "execution_count": null,
      "outputs": [
        {
          "output_type": "display_data",
          "data": {
            "application/vnd.jupyter.widget-view+json": {
              "model_id": "ed1e314d61e04fb2931331d3cae59144",
              "version_minor": 0,
              "version_major": 2
            },
            "text/plain": [
              "Downloading:   0%|          | 0.00/665 [00:00<?, ?B/s]"
            ]
          },
          "metadata": {}
        },
        {
          "output_type": "display_data",
          "data": {
            "application/vnd.jupyter.widget-view+json": {
              "model_id": "bb6ce1b7b0fc44e5ac36a2105f56c7d0",
              "version_minor": 0,
              "version_major": 2
            },
            "text/plain": [
              "Downloading:   0%|          | 0.00/523M [00:00<?, ?B/s]"
            ]
          },
          "metadata": {}
        },
        {
          "output_type": "display_data",
          "data": {
            "application/vnd.jupyter.widget-view+json": {
              "model_id": "4dce06f548e846d4b3a351aebb35e011",
              "version_minor": 0,
              "version_major": 2
            },
            "text/plain": [
              "Downloading:   0%|          | 0.00/0.99M [00:00<?, ?B/s]"
            ]
          },
          "metadata": {}
        },
        {
          "output_type": "display_data",
          "data": {
            "application/vnd.jupyter.widget-view+json": {
              "model_id": "fb7a6b35b27742c7ba73e045376ca878",
              "version_minor": 0,
              "version_major": 2
            },
            "text/plain": [
              "Downloading:   0%|          | 0.00/446k [00:00<?, ?B/s]"
            ]
          },
          "metadata": {}
        },
        {
          "output_type": "display_data",
          "data": {
            "application/vnd.jupyter.widget-view+json": {
              "model_id": "beaeaf2b84684313a16ecdeffe28f5bb",
              "version_minor": 0,
              "version_major": 2
            },
            "text/plain": [
              "Downloading:   0%|          | 0.00/1.29M [00:00<?, ?B/s]"
            ]
          },
          "metadata": {}
        }
      ]
    },
    {
      "cell_type": "code",
      "source": [
        "input_text = \"I went to see a movie in the theater\"\n",
        "input_length = len(input_text.split())\n",
        "num_new_words = 5"
      ],
      "metadata": {
        "id": "6YGyMY4PPmpu"
      },
      "execution_count": null,
      "outputs": []
    },
    {
      "cell_type": "code",
      "source": [
        "output_length = input_length + num_new_words"
      ],
      "metadata": {
        "id": "JJcWFsDQPoOa"
      },
      "execution_count": null,
      "outputs": []
    },
    {
      "cell_type": "markdown",
      "source": [
        "Again use generator with specified parameters to give output."
      ],
      "metadata": {
        "id": "3qe7ly5YzROm"
      }
    },
    {
      "cell_type": "code",
      "source": [
        "gpt_output = generator(input_text, max_length=output_length, num_return_sequences=5)"
      ],
      "metadata": {
        "colab": {
          "base_uri": "https://localhost:8080/"
        },
        "id": "7engbAVCPpg5",
        "outputId": "5fbe17cb-8e68-411f-f6fa-003515cef032"
      },
      "execution_count": null,
      "outputs": [
        {
          "output_type": "stream",
          "name": "stderr",
          "text": [
            "Setting `pad_token_id` to `eos_token_id`:50256 for open-end generation.\n"
          ]
        }
      ]
    },
    {
      "cell_type": "code",
      "source": [
        "augmented_text = gpt_output[0]['generated_text']"
      ],
      "metadata": {
        "id": "R0gF0zOZPzHv"
      },
      "execution_count": null,
      "outputs": []
    },
    {
      "cell_type": "code",
      "source": [
        "augmented_text"
      ],
      "metadata": {
        "colab": {
          "base_uri": "https://localhost:8080/",
          "height": 34
        },
        "id": "XM5gCStLQZ7T",
        "outputId": "51771118-671f-4fda-edc5-9745b48d43c8"
      },
      "execution_count": null,
      "outputs": [
        {
          "output_type": "execute_result",
          "data": {
            "application/vnd.google.colaboratory.intrinsic+json": {
              "type": "string"
            },
            "text/plain": [
              "'I went to see a movie in the theater and was so nervous.'"
            ]
          },
          "metadata": {},
          "execution_count": 8
        }
      ]
    },
    {
      "cell_type": "markdown",
      "source": [
        "## 4. Train BERT Classification"
      ],
      "metadata": {
        "id": "miunj_o87RJg"
      }
    },
    {
      "cell_type": "code",
      "source": [
        "from google.colab import drive\n",
        "drive.mount(\"/content/drive\")"
      ],
      "metadata": {
        "id": "TEJo57mvhYrf"
      },
      "execution_count": null,
      "outputs": []
    },
    {
      "cell_type": "code",
      "source": [
        "path = \"/content/drive/My Drive/HuggingFaceTrain\""
      ],
      "metadata": {
        "id": "mrWT1yPghdxj"
      },
      "execution_count": null,
      "outputs": []
    },
    {
      "cell_type": "code",
      "source": [
        "!pip install transformers"
      ],
      "metadata": {
        "id": "8n5fjbuNhIR-"
      },
      "execution_count": null,
      "outputs": []
    },
    {
      "cell_type": "code",
      "source": [
        "!pip install datasets"
      ],
      "metadata": {
        "id": "RYAoUsLd7awz"
      },
      "execution_count": null,
      "outputs": []
    },
    {
      "cell_type": "code",
      "source": [
        "from datasets import load_dataset\n",
        "dataset = load_dataset('csv', data_files={'train': path+'/Corona_NLP_train.csv', 'test': path+'/Corona_NLP_test.csv'}, encoding = \"ISO-8859-1\")"
      ],
      "metadata": {
        "id": "sXSHK66e7P4A"
      },
      "execution_count": null,
      "outputs": []
    },
    {
      "cell_type": "code",
      "source": [
        "dataset"
      ],
      "metadata": {
        "id": "nucwDvIc7mIG"
      },
      "execution_count": null,
      "outputs": []
    },
    {
      "cell_type": "code",
      "source": [
        "from transformers import AutoTokenizer\n",
        "tokenizer = AutoTokenizer.from_pretrained('bert-base-cased')"
      ],
      "metadata": {
        "id": "93vfe81n7vLD"
      },
      "execution_count": null,
      "outputs": []
    },
    {
      "cell_type": "code",
      "source": [
        "tokenizer(\"Attention is all you need\")"
      ],
      "metadata": {
        "id": "Vum57KhGh-w6"
      },
      "execution_count": null,
      "outputs": []
    },
    {
      "cell_type": "code",
      "source": [
        "# Convert sentiment into integer and tokenize the tweets\n",
        "def transform_labels(label):\n",
        "    label = label['Sentiment']\n",
        "    num = 0\n",
        "    if label == 'Positive':\n",
        "      num = 0\n",
        "    elif label == 'Negative':\n",
        "      num = 1\n",
        "    elif label == 'Neutral':\n",
        "      num = 2\n",
        "    elif label == 'Extremely Positive':\n",
        "      num = 3\n",
        "    elif label == 'Extremely Negative':\n",
        "      num = 4\n",
        "    return {'labels': num}"
      ],
      "metadata": {
        "id": "BhNiGKWIiDsf"
      },
      "execution_count": null,
      "outputs": []
    },
    {
      "cell_type": "code",
      "source": [
        "def tokenize_data(example):\n",
        "    return tokenizer(example['OriginalTweet'], padding='max_length')"
      ],
      "metadata": {
        "id": "Pb0yklK7ihC3"
      },
      "execution_count": null,
      "outputs": []
    },
    {
      "cell_type": "markdown",
      "source": [
        "Use of map to apply purpose built function on specific columns - and do batches and remove_columns."
      ],
      "metadata": {
        "id": "OGupFJlXkF6J"
      }
    },
    {
      "cell_type": "code",
      "source": [
        "dataset = dataset.map(tokenize_data, batched=True)"
      ],
      "metadata": {
        "id": "krq1ToKFilkO"
      },
      "execution_count": null,
      "outputs": []
    },
    {
      "cell_type": "code",
      "source": [
        "remove_columns = ['UserName', 'ScreenName', 'Location', 'TweetAt', 'OriginalTweet', 'Sentiment']\n",
        "dataset = dataset.map(transform_labels, remove_columns = remove_columns)"
      ],
      "metadata": {
        "id": "Nb6ewsBSiro6"
      },
      "execution_count": null,
      "outputs": []
    },
    {
      "cell_type": "code",
      "source": [
        "from transformers import TrainingArguments\n",
        "training_args = TrainingArguments(\"test_trainer\", num_train_epochs=3)"
      ],
      "metadata": {
        "id": "E7DFE7YJjP-1"
      },
      "execution_count": null,
      "outputs": []
    },
    {
      "cell_type": "code",
      "source": [
        "from transformers import AutoModelForSequenceClassification\n",
        "model = AutoModelForSequenceClassification.from_pretrained(\"bert-base-cased\", num_labels=5)"
      ],
      "metadata": {
        "id": "ptkWkmf4kZgh"
      },
      "execution_count": null,
      "outputs": []
    },
    {
      "cell_type": "code",
      "source": [
        "train_dataset = dataset['train']\n",
        "eval_dataset = dataset['test']"
      ],
      "metadata": {
        "id": "m2q4tvqGki-T"
      },
      "execution_count": null,
      "outputs": []
    },
    {
      "cell_type": "code",
      "source": [
        "from transformers import Trainer\n",
        "trainer = Trainer(model=model, args=training_args, train_dataset=train_dataset, eval_dataset=eval_dataset)"
      ],
      "metadata": {
        "id": "vdLp6xNqk_h3"
      },
      "execution_count": null,
      "outputs": []
    },
    {
      "cell_type": "code",
      "source": [
        "trainer.train()"
      ],
      "metadata": {
        "id": "hQ3CH6sklMsq"
      },
      "execution_count": null,
      "outputs": []
    },
    {
      "cell_type": "markdown",
      "source": [
        "Then we define the compute_metrics function that just convert logits to predictions (Transformers models return the logits) and feed them to compute method of this metric."
      ],
      "metadata": {
        "id": "im-dWAZRtJEH"
      }
    },
    {
      "cell_type": "code",
      "source": [
        "import numpy as np\n",
        "from datasets import load_metric\n",
        "metric = load_metric(\"accuracy\")\n",
        "\n",
        "def compute_metrics(eval_pred):\n",
        "    logits, labels = eval_pred\n",
        "    predictions = np.argmax(logits, axis=-1)\n",
        "    return metric.compute(predictions=predictions, references=labels)"
      ],
      "metadata": {
        "id": "S01uK94Hl0T_"
      },
      "execution_count": null,
      "outputs": []
    },
    {
      "cell_type": "code",
      "source": [
        "trainer.evaluate()"
      ],
      "metadata": {
        "id": "P_6WAIA8l-8y"
      },
      "execution_count": null,
      "outputs": []
    },
    {
      "cell_type": "markdown",
      "source": [
        "# RoBERTa / HuggingFace Model with Masked Language Modelling\n",
        "\n",
        "BERT is designed to pre-train deep bidirectional representations from unlabeled text by jointly conditioning on both left and right context in all layers.\n",
        "\n",
        "**Refinement on the general Transformer modules (encoder-decoder architecture built on Transformers and Attention) - encoder only. This is in turn built on LSTM (RNN) + attention and Bidrectional-RNN only models.**"
      ],
      "metadata": {
        "id": "BOderJA5HJ_r"
      }
    },
    {
      "cell_type": "markdown",
      "source": [
        "We have a shortlist of products with their description and our goal is to obtain the name of the product - domain is very specific, words and concepts about clothes, shapes, colors...\n",
        "\n",
        "\n",
        "*   Create and train a byte-level, Byte-pair encoding tokenizer with the same special tokens as RoBERTa\n",
        "*   Train a RoBERTa model from scratch using Masked Language Modeling, MLM.\n",
        "\n",
        "https://github.com/edumunozsala/RoBERTa_Encoder_Decoder_Product_Names/blob/03c0456f03d8cff62e2d1b04f03029130694e18b/RoBERTa%20MLM%20and%20Tokenizer%20train%20for%20Text%20generation.ipynb"
      ],
      "metadata": {
        "id": "93nIAW2T3NO9"
      }
    },
    {
      "cell_type": "code",
      "source": [
        "import os\n",
        "import pandas as pd\n",
        "import tqdm\n",
        "import math"
      ],
      "metadata": {
        "id": "vKB6HiqO4Tsc"
      },
      "execution_count": null,
      "outputs": []
    },
    {
      "cell_type": "code",
      "source": [
        "data = train_df[\"description\"]\n",
        "data = data.replace(\"\\n\",\" \")"
      ],
      "metadata": {
        "id": "wd93omj0ZqtE"
      },
      "execution_count": null,
      "outputs": []
    },
    {
      "cell_type": "code",
      "source": [
        "data = test_df[\"description\"]\n",
        "data = data.replace(\"\\n\",\" \")"
      ],
      "metadata": {
        "id": "nkZuXlylZ-tw"
      },
      "execution_count": null,
      "outputs": []
    },
    {
      "cell_type": "code",
      "source": [
        "from pathlib import Path\n",
        "\n",
        "from tokenizers import ByteLevelBPETokenizer\n",
        "from tokenizers.processors import BertProcessing\n",
        "\n",
        "import torch\n",
        "from torch.utils.data.dataset import Dataset"
      ],
      "metadata": {
        "id": "kHvzfJI0aB0U"
      },
      "execution_count": null,
      "outputs": []
    },
    {
      "cell_type": "code",
      "source": [
        "%%time \n",
        "paths = [str(x) for x in Path(\".\").glob(\"text_split/*.txt\")]\n",
        "\n",
        "# Initialize a tokenizer\n",
        "tokenizer = ByteLevelBPETokenizer(lowercase=True)\n",
        "\n",
        "# Customize training\n",
        "tokenizer.train(files=paths, vocab_size=8192, min_frequency=2,\n",
        "                show_progress=True,\n",
        "                special_tokens=[\n",
        "                                \"<s>\",\n",
        "                                \"<pad>\",\n",
        "                                \"</s>\",\n",
        "                                \"<unk>\",\n",
        "                                \"<mask>\",\n",
        "])"
      ],
      "metadata": {
        "id": "sW0Hwm7LaFB-"
      },
      "execution_count": null,
      "outputs": []
    },
    {
      "cell_type": "code",
      "source": [
        "tokenizer"
      ],
      "metadata": {
        "id": "qLEOnCYeaGvH"
      },
      "execution_count": null,
      "outputs": []
    },
    {
      "cell_type": "code",
      "source": [
        "#Save the Tokenizer to disk\n",
        "tokenizer.save_model(tokenizer_folder)"
      ],
      "metadata": {
        "id": "-PQlTHkgaJMV"
      },
      "execution_count": null,
      "outputs": []
    },
    {
      "cell_type": "code",
      "source": [
        "# Create the tokenizer using vocab.json and mrege.txt files\n",
        "tokenizer = ByteLevelBPETokenizer(\n",
        "    os.path.abspath(os.path.join(tokenizer_folder,'vocab.json')),\n",
        "    os.path.abspath(os.path.join(tokenizer_folder,'merges.txt'))\n",
        ")"
      ],
      "metadata": {
        "id": "Hx7CLQ14aKZo"
      },
      "execution_count": null,
      "outputs": []
    },
    {
      "cell_type": "code",
      "source": [
        "# Prepare the tokenizer\n",
        "tokenizer._tokenizer.post_processor = BertProcessing(\n",
        "    (\"</s>\", tokenizer.token_to_id(\"</s>\")),\n",
        "    (\"<s>\", tokenizer.token_to_id(\"<s>\")),\n",
        ")\n",
        "tokenizer.enable_truncation(max_length=512)"
      ],
      "metadata": {
        "id": "1qAvY7moaODB"
      },
      "execution_count": null,
      "outputs": []
    },
    {
      "cell_type": "code",
      "source": [
        "TRAIN_BATCH_SIZE = 16    # input batch size for training (default: 64)\n",
        "VALID_BATCH_SIZE = 8    # input batch size for testing (default: 1000)\n",
        "TRAIN_EPOCHS = 15        # number of epochs to train (default: 10)\n",
        "LEARNING_RATE = 1e-4    # learning rate (default: 0.001)\n",
        "WEIGHT_DECAY = 0.01\n",
        "SEED = 42               # random seed (default: 42)\n",
        "MAX_LEN = 128\n",
        "SUMMARY_LEN = 7"
      ],
      "metadata": {
        "id": "0vQY5NmEaQM3"
      },
      "execution_count": null,
      "outputs": []
    },
    {
      "cell_type": "code",
      "source": [
        "from transformers import RobertaConfig\n",
        "\n",
        "config = RobertaConfig(\n",
        "    vocab_size=8192,\n",
        "    max_position_embeddings=514,\n",
        "    num_attention_heads=12,\n",
        "    num_hidden_layers=6,\n",
        "    type_vocab_size=1,\n",
        ")"
      ],
      "metadata": {
        "id": "OkX5Jn-qaQHP"
      },
      "execution_count": null,
      "outputs": []
    },
    {
      "cell_type": "code",
      "source": [
        "from transformers import RobertaForMaskedLM\n",
        "\n",
        "model = RobertaForMaskedLM(config=config)\n",
        "print('Num parameters: ',model.num_parameters())"
      ],
      "metadata": {
        "id": "aWGl2PcmaUSZ"
      },
      "execution_count": null,
      "outputs": []
    },
    {
      "cell_type": "markdown",
      "source": [
        "Now let's recreate our tokenizer, using the tokenizer trained and saved in the previous step. We will use a RoBERTaTokenizerFast object and the from_pretrained method, to initialize our tokenizer."
      ],
      "metadata": {
        "id": "DV6kDMvjaZzD"
      }
    },
    {
      "cell_type": "code",
      "source": [
        "from transformers import RobertaTokenizerFast\n",
        "# Create the tokenizer from a trained one\n",
        "tokenizer = RobertaTokenizerFast.from_pretrained(tokenizer_folder, max_len=MAX_LEN)"
      ],
      "metadata": {
        "id": "A842aNauaViL"
      },
      "execution_count": null,
      "outputs": []
    },
    {
      "cell_type": "markdown",
      "source": [
        "We'll build a Pytorch dataset, subclassing the Dataset Class. The CustomDataset receives a Pandas Series with the description variable values and the tokenizer to encode those values. The Dataset returns a list of tokens for every product description in the Series.\n",
        "\n",
        "In order to evaluate the model during training, we will generate a train dataset for training and a evaluation dataset."
      ],
      "metadata": {
        "id": "TsdqQSboafS9"
      }
    },
    {
      "cell_type": "code",
      "source": [
        "class CustomDataset(Dataset):\n",
        "    def __init__(self, df, tokenizer):\n",
        "        # or use the RobertaTokenizer from `transformers` directly.\n",
        "\n",
        "        self.examples = []\n",
        "        \n",
        "        for example in df.values:\n",
        "            x=tokenizer.encode_plus(example, max_length = MAX_LEN, truncation=True, padding=True)\n",
        "            self.examples += [x.input_ids]\n",
        "\n",
        "    def __len__(self):\n",
        "        return len(self.examples)\n",
        "\n",
        "    def __getitem__(self, i):\n",
        "        # We’ll pad at the batch level.\n",
        "        return torch.tensor(self.examples[i])"
      ],
      "metadata": {
        "id": "Lc3Ycaxzabn9"
      },
      "execution_count": null,
      "outputs": []
    },
    {
      "cell_type": "code",
      "source": [
        "# Create the train and evaluation dataset\n",
        "train_dataset = CustomDataset(train_df['description'], tokenizer)\n",
        "eval_dataset = CustomDataset(test_df['description'], tokenizer)"
      ],
      "metadata": {
        "id": "gZYSZGptalxQ"
      },
      "execution_count": null,
      "outputs": []
    },
    {
      "cell_type": "code",
      "source": [
        "from transformers import DataCollatorForLanguageModeling\n",
        "\n",
        "# Define the Data Collator\n",
        "data_collator = DataCollatorForLanguageModeling(\n",
        "    tokenizer=tokenizer, mlm=True, mlm_probability=0.15\n",
        ")"
      ],
      "metadata": {
        "id": "ejYOsgFtapXH"
      },
      "execution_count": null,
      "outputs": []
    },
    {
      "cell_type": "markdown",
      "source": [
        "When we want to train a transformer model, the basic approach is to create a Trainer class that provides an API for feature-complete training and contains the basic training loop. First, we define the training arguments, there are many of them but the more relevant are\n",
        "\n",
        "output_dir, where the model artifacts will be saved\n",
        "num_train_epochs\n",
        "per_device_train_batch_size, the batch size\n",
        "and then the Trainer object is created with the arguments, the input dataset and the data collator defined:"
      ],
      "metadata": {
        "id": "BWA3F3DMatS-"
      }
    },
    {
      "cell_type": "code",
      "source": [
        "from transformers import Trainer, TrainingArguments\n",
        "\n",
        "print(model_folder)\n",
        "# Define the training arguments\n",
        "training_args = TrainingArguments(\n",
        "    output_dir=model_folder,\n",
        "    overwrite_output_dir=True,\n",
        "    evaluation_strategy = 'epoch',\n",
        "    num_train_epochs=TRAIN_EPOCHS,\n",
        "    learning_rate=LEARNING_RATE,\n",
        "    weight_decay=WEIGHT_DECAY,\n",
        "    per_device_train_batch_size=TRAIN_BATCH_SIZE,\n",
        "    per_device_eval_batch_size=VALID_BATCH_SIZE,\n",
        "    save_steps=8192,\n",
        "    #eval_steps=4096,\n",
        "    save_total_limit=1,\n",
        ")\n",
        "# Create the trainer for our model\n",
        "trainer = Trainer(\n",
        "    model=model,\n",
        "    args=training_args,\n",
        "    data_collator=data_collator,\n",
        "    train_dataset=train_dataset,\n",
        "    eval_dataset=eval_dataset,\n",
        "    #prediction_loss_only=True,\n",
        ")"
      ],
      "metadata": {
        "id": "IkDgXgRXat3R"
      },
      "execution_count": null,
      "outputs": []
    },
    {
      "cell_type": "code",
      "source": [
        "# Train the model\n",
        "trainer.train()"
      ],
      "metadata": {
        "id": "VQ_ojYUQa0Uc"
      },
      "execution_count": null,
      "outputs": []
    },
    {
      "cell_type": "markdown",
      "source": [
        "Checking the trained model using a Pipeline\n",
        "Looking at the training and eval losses going down is not enough, we would like to apply our model to check if our language model is learning anything interesting. An easy way is via the FillMaskPipeline.\n",
        "\n",
        "Pipelines are simple wrappers around tokenizers and models. We can use the 'fill-mask' pipeline where we input a sequence containing a masked token () and it returns a list of the most probable filled sequences, with their probabilities."
      ],
      "metadata": {
        "id": "4Foe32oDa20x"
      }
    },
    {
      "cell_type": "code",
      "source": [
        "from transformers import pipeline\n",
        "\n",
        "fill_mask = pipeline(\n",
        "    \"fill-mask\",\n",
        "    model=model_folder,\n",
        "    tokenizer=tokenizer_folder\n",
        ")"
      ],
      "metadata": {
        "id": "NC9oMR0wa16Z"
      },
      "execution_count": null,
      "outputs": []
    },
    {
      "cell_type": "markdown",
      "source": [
        "# Finetuning BERT / Loading Datasets\n",
        "\n",
        "A datasets.Dataset object is returned when you load an instance of a dataset. This object behaves like a normal Python container. Call dataset.info to return a short description of the dataset, the authors, and even the dataset size. https://huggingface.co/docs/datasets/\n",
        "\n",
        "\n",
        "\n",
        "\n"
      ],
      "metadata": {
        "id": "cJHmle4KqbtD"
      }
    },
    {
      "cell_type": "code",
      "source": [
        "\"\"\">>> dataset = load_dataset('glue', 'mrpc', split='train')\n",
        ">>> tokenizer = AutoTokenizer.from_pretrained('bert-base-cased')\n",
        ">>> dataset = dataset.map(lambda e: tokenizer(e['sentence1'], truncation=True, padding='max_length'), batched=True)\n",
        ">>> data_collator = DataCollatorWithPadding(tokenizer=tokenizer, return_tensors=\"tf\")\n",
        ">>> train_dataset = dataset[\"train\"].to_tf_dataset(\n",
        "...   columns=['input_ids', 'token_type_ids', 'attention_mask', 'label'],\n",
        "...   shuffle=True,\n",
        "...   batch_size=16,\n",
        "...   collate_fn=data_collator,\n",
        "... )\"\"\""
      ],
      "metadata": {
        "id": "ChEWKM2Sr3Fr"
      },
      "execution_count": null,
      "outputs": []
    },
    {
      "cell_type": "code",
      "source": [
        "\"\"\"dataset.split\n",
        "NamedSplit('train')\n",
        "dataset.description\n",
        "'GLUE, the General Language Understanding Evaluation benchmark\\n(https://gluebenchmark.com/) is a collection of resources for training,\\nevaluating, and analyzing natural language understanding systems.\\n\\n'\n",
        "dataset.citation\n",
        "'@inproceedings{dolan2005automatically,\\n  title={Automatically constructing a corpus of sentential paraphrases},\\n  author={Dolan, William B and Brockett, Chris},\\n  booktitle={Proceedings of the Third International Workshop on Paraphrasing (IWP2005)},\\n  year={2005}\\n}\\n@inproceedings{wang2019glue,\\n  title={{GLUE}: A Multi-Task Benchmark and Analysis Platform for Natural Language Understanding},\\n  author={Wang, Alex and Singh, Amanpreet and Michael, Julian and Hill, Felix and Levy, Omer and Bowman, Samuel R.},\\n  note={In the Proceedings of ICLR.},\\n  year={2019}\\n}\\n\\nNote that each GLUE dataset has its own citation. Please see the source to see\\nthe correct citation for each contained dataset.'\n",
        "dataset.homepage\n",
        "'https://www.microsoft.com/en-us/download/details.aspx?id=52398'\"\"\""
      ],
      "metadata": {
        "id": "6rNT6Yjd1-5b"
      },
      "execution_count": null,
      "outputs": []
    },
    {
      "cell_type": "markdown",
      "source": [
        "We can load a dataset in the dataset object from Huggingface and map the tokenizer to the field in the dataset. This creates three further columns input_ids, token_type_ids, and attention_mask."
      ],
      "metadata": {
        "id": "JXGKX-Py3DCq"
      }
    },
    {
      "cell_type": "markdown",
      "source": [
        "## Tensorflow / Torch Implementation of Datasets"
      ],
      "metadata": {
        "id": "mzo0dpoF3m5s"
      }
    },
    {
      "cell_type": "code",
      "source": [
        "import tensorflow as tf\n",
        "from datasets import load_dataset\n",
        "from transformers import AutoTokenizer\n",
        "dataset = load_dataset('glue', 'mrpc', split='train')\n",
        "tokenizer = AutoTokenizer.from_pretrained('bert-base-cased')\n",
        "dataset = dataset.map(lambda e: tokenizer(e['sentence1'], truncation=True, padding='max_length'), batched=True)"
      ],
      "metadata": {
        "id": "8oj_kjP42-lh"
      },
      "execution_count": null,
      "outputs": []
    },
    {
      "cell_type": "code",
      "source": [
        "data_collator = DataCollatorWithPadding(tokenizer=tokenizer, return_tensors=\"tf\")\n",
        "train_dataset = dataset[\"train\"].to_tf_dataset(\n",
        "  columns=['input_ids', 'token_type_ids', 'attention_mask', 'label'],\n",
        "  shuffle=True,\n",
        "  batch_size=16,\n",
        "  collate_fn=data_collator,\n",
        ")"
      ],
      "metadata": {
        "id": "nafaZohE3bUZ"
      },
      "execution_count": null,
      "outputs": []
    },
    {
      "cell_type": "code",
      "source": [
        "import torch\n",
        "from datasets import load_dataset\n",
        "from transformers import AutoTokenizer\n",
        "dataset = load_dataset('glue', 'mrpc', split='train')\n",
        "tokenizer = AutoTokenizer.from_pretrained('bert-base-cased')\n",
        "dataset = dataset.map(lambda e: tokenizer(e['sentence1'], truncation=True, padding='max_length'), batched=True)\n",
        "dataset.set_format(type='torch', columns=['input_ids', 'token_type_ids', 'attention_mask', 'label'])\n",
        "dataloader = torch.utils.data.DataLoader(dataset, batch_size=32)\n",
        "next(iter(dataloader))"
      ],
      "metadata": {
        "id": "NXYEkEX53dRr"
      },
      "execution_count": null,
      "outputs": []
    },
    {
      "cell_type": "markdown",
      "source": [
        "## Real Example"
      ],
      "metadata": {
        "id": "pTl3MYEh32fy"
      }
    },
    {
      "cell_type": "code",
      "source": [
        "raw_datasets = load_dataset(\"imdb\")"
      ],
      "metadata": {
        "id": "mfRtf29Yqe2w"
      },
      "execution_count": null,
      "outputs": []
    },
    {
      "cell_type": "code",
      "source": [
        "from transformers import AutoTokenizer\n",
        "tokenizer = AutoTokenizer.from_pretrained(\"bert-base-cased\")"
      ],
      "metadata": {
        "id": "zlU3HEj6qhZA"
      },
      "execution_count": null,
      "outputs": []
    },
    {
      "cell_type": "code",
      "source": [
        "def tokenizer_function(examples):\n",
        "    return tokenizer(examples[\"text\"], padding=\"max_length\", truncation=True)"
      ],
      "metadata": {
        "id": "xcG3-r-uqj1d"
      },
      "execution_count": null,
      "outputs": []
    },
    {
      "cell_type": "code",
      "source": [
        "tokenized_datasets = raw_datasets.map(tokenizer_function, batched=True)"
      ],
      "metadata": {
        "id": "_xzFDfUHq5B2"
      },
      "execution_count": null,
      "outputs": []
    },
    {
      "cell_type": "markdown",
      "source": [
        "**Straightforward to call train / test subsets of the dataset.**"
      ],
      "metadata": {
        "id": "SkdcWXI24E-M"
      }
    },
    {
      "cell_type": "code",
      "source": [
        "small_train_dataset = tokenized_datasets[\"train\"].shuffle(seed=42).select(range(1000))\n",
        "small_eval_dataset = tokenized_datasets[\"test\"].shuffle(seed=42).select(range(1000))\n",
        "full_train_dataset = tokenized_datasets[\"train\"]\n",
        "full_eval_dataset = tokenized_datasets[\"test\"]"
      ],
      "metadata": {
        "id": "JMx3Z2B3rFCn"
      },
      "execution_count": null,
      "outputs": []
    },
    {
      "cell_type": "code",
      "source": [
        "from transformers import TFAutoModelForSequenceClassification\n",
        "model = TFAutoModelForSequenceClassification.from_pretrained(\"bert-base-cased\", num_labels=2)"
      ],
      "metadata": {
        "id": "OkHAAv1Pr-jI"
      },
      "execution_count": null,
      "outputs": []
    },
    {
      "cell_type": "code",
      "source": [
        "from transformers import TrainingArguments\n",
        "training_args = TrainingArguments(\"test_trainer\")"
      ],
      "metadata": {
        "colab": {
          "base_uri": "https://localhost:8080/"
        },
        "id": "3hduRwKLssjV",
        "outputId": "b06c836b-fc47-4708-d99e-629072d9986b"
      },
      "execution_count": null,
      "outputs": [
        {
          "output_type": "stream",
          "name": "stderr",
          "text": [
            "PyTorch: setting up devices\n",
            "The default value for the training argument `--report_to` will change in v5 (from all installed integrations to none). In v5, you will need to use `--report_to all` to get the same behavior as now. You should start updating your code and make this info disappear :-).\n"
          ]
        }
      ]
    },
    {
      "cell_type": "code",
      "source": [
        "from transformers import Trainer\n",
        "trainer = Trainer(model=model, args=training_args, train_dataset=small_train_dataset, eval_dataset=small_eval_dataset)"
      ],
      "metadata": {
        "id": "2O7X6bVPs00g"
      },
      "execution_count": null,
      "outputs": []
    },
    {
      "cell_type": "code",
      "source": [
        "small_train_dataset"
      ],
      "metadata": {
        "colab": {
          "base_uri": "https://localhost:8080/"
        },
        "id": "igsq7hkEsGBe",
        "outputId": "ed5532f4-df26-489f-84cc-7aff368e42ba"
      },
      "execution_count": null,
      "outputs": [
        {
          "output_type": "execute_result",
          "data": {
            "text/plain": [
              "Dataset({\n",
              "    features: ['text', 'label', 'input_ids', 'token_type_ids', 'attention_mask'],\n",
              "    num_rows: 1000\n",
              "})"
            ]
          },
          "metadata": {},
          "execution_count": 30
        }
      ]
    },
    {
      "cell_type": "code",
      "source": [
        "# remove text column and convert to Tensorflow format\n",
        "tf_train_dataset = small_train_dataset.remove_columns([\"text\"]).with_format(\"tensorflow\")\n",
        "tf_eval_dataset = small_eval_dataset.remove_columns([\"text\"]).with_format(\"tensorflow\")"
      ],
      "metadata": {
        "id": "Fl-boos9sRlA"
      },
      "execution_count": null,
      "outputs": []
    },
    {
      "cell_type": "code",
      "source": [
        "import tensorflow as tf"
      ],
      "metadata": {
        "id": "k9Kk5lyGsoGo"
      },
      "execution_count": null,
      "outputs": []
    },
    {
      "cell_type": "code",
      "source": [
        "train_features = {x: tf_train_dataset[x] for x in tokenizer.model_input_names}\n",
        "train_tf_dataset = tf.data.Dataset.from_tensor_slices((train_features, tf_train_dataset[\"label\"]))\n",
        "train_tf_dataset = train_tf_dataset.shuffle(len(tf_train_dataset)).batch(8)\n",
        "\n",
        "eval_features = {x: tf_eval_dataset[x] for x in tokenizer.model_input_names}\n",
        "eval_tf_dataset = tf.data.Dataset.from_tensor_slices((eval_features, tf_eval_dataset[\"label\"]))\n",
        "eval_tf_dataset = eval_tf_dataset.batch(8)"
      ],
      "metadata": {
        "id": "mlb1Sa9zsXjH"
      },
      "execution_count": null,
      "outputs": []
    },
    {
      "cell_type": "markdown",
      "source": [
        "## Fine-Tuning the BART Large Model for Text Summarization"
      ],
      "metadata": {
        "id": "DTYCIzFXT2d6"
      }
    },
    {
      "cell_type": "code",
      "source": [
        ""
      ],
      "metadata": {
        "id": "qarVqltlT7BP"
      },
      "execution_count": null,
      "outputs": []
    },
    {
      "cell_type": "code",
      "source": [
        ""
      ],
      "metadata": {
        "id": "3KmScAJZT69T"
      },
      "execution_count": null,
      "outputs": []
    }
  ]
}